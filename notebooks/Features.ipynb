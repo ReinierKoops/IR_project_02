{
 "cells": [
  {
   "cell_type": "code",
   "execution_count": 1,
   "metadata": {},
   "outputs": [],
   "source": [
    "import pandas as pd\n",
    "import glob\n",
    "import re\n",
    "import collections\n",
    "import numpy as np\n",
    "import matplotlib.pyplot as plt\n",
    "import gzip\n",
    "\n",
    "from tqdm import tqdm_notebook\n",
    "from nltk.util import ngrams\n",
    "from wordcloud import WordCloud\n",
    "from IPython.display import display, HTML"
   ]
  },
  {
   "cell_type": "markdown",
   "metadata": {},
   "source": [
    "First we need to combine all data files, since the data set is split among different files"
   ]
  },
  {
   "cell_type": "code",
   "execution_count": 4,
   "metadata": {},
   "outputs": [
    {
     "name": "stderr",
     "output_type": "stream",
     "text": [
      "/usr/local/lib/python3.7/site-packages/IPython/core/interactiveshell.py:3254: DtypeWarning: Columns (0,3) have mixed types.Specify dtype option on import or set low_memory=False.\n",
      "  if (await self.run_code(code, result,  async_=asy)):\n"
     ]
    }
   ],
   "source": [
    "df = pd.concat([pd.read_csv(f, delimiter='\\t') for f in glob.glob('/Users/rwkoops/PycharmProjects/IR_project/IR_project_02/data/user-ct-test-collection-*.txt')])"
   ]
  },
  {
   "cell_type": "markdown",
   "metadata": {},
   "source": [
    "Next up, we randomly sample 1 million queries from the data set"
   ]
  },
  {
   "cell_type": "code",
   "execution_count": 6,
   "metadata": {},
   "outputs": [],
   "source": [
    "queries = df.sample(1000000, random_state=23)"
   ]
  },
  {
   "cell_type": "markdown",
   "metadata": {},
   "source": [
    "Then, we create all possible suffixes by splitting the queries in words and iteratively removing the leading word, during this process, we normalize URLs by using a regex that detects the dots in URLs and replaces them by spaces."
   ]
  },
  {
   "cell_type": "code",
   "execution_count": 7,
   "metadata": {},
   "outputs": [
    {
     "name": "stderr",
     "output_type": "stream",
     "text": [
      "/usr/local/lib/python3.7/site-packages/ipykernel_launcher.py:3: TqdmDeprecationWarning: This function will be removed in tqdm==5.0.0\n",
      "Please use `tqdm.notebook.tqdm` instead of `tqdm.tqdm_notebook`\n",
      "  This is separate from the ipykernel package so we can avoid doing imports until\n"
     ]
    },
    {
     "data": {
      "application/vnd.jupyter.widget-view+json": {
       "model_id": "9196cec0adeb4a24928eeba200998232",
       "version_major": 2,
       "version_minor": 0
      },
      "text/plain": [
       "HBox(children=(FloatProgress(value=0.0, max=1000000.0), HTML(value='')))"
      ]
     },
     "metadata": {},
     "output_type": "display_data"
    },
    {
     "name": "stdout",
     "output_type": "stream",
     "text": [
      "\n"
     ]
    }
   ],
   "source": [
    "suffixes = []\n",
    "\n",
    "for i, row in tqdm_notebook(queries.iterrows(), total=queries.shape[0]):\n",
    "    query = row['Query']\n",
    "    if isinstance(query, str):\n",
    "        line = re.sub(r\"\\.(.)\", r\" \\1\", query)\n",
    "        words = line.split()\n",
    "        for j in range(0, len(words)):\n",
    "            suffix = \" \".join(words[j:])\n",
    "            suffixes.append(suffix)\n",
    "\n",
    "#np.save('pickles/historical_logs', suffixes)"
   ]
  },
  {
   "cell_type": "markdown",
   "metadata": {},
   "source": [
    "Since this process takes quite a while, we store the results. We choose a compressed format since the array is very large and needs to be stored efficiently."
   ]
  },
  {
   "cell_type": "code",
   "execution_count": 9,
   "metadata": {},
   "outputs": [],
   "source": [
    "f = gzip.GzipFile(\"/Users/rwkoops/PycharmProjects/IR_project/IR_project_02/pickles/historical_logs.npy.gz\", \"w\")\n",
    "np.save(file=f, arr=suffixes)\n",
    "f.close()"
   ]
  },
  {
   "cell_type": "markdown",
   "metadata": {},
   "source": [
    "If we already have a save-file, we can skip the steps performed before and start from this point on by reading the file in."
   ]
  },
  {
   "cell_type": "code",
   "execution_count": null,
   "metadata": {},
   "outputs": [],
   "source": [
    "# f = gzip.GzipFile('pickles/historical_logs.npy.gz', \"r\")\n",
    "# suffixes = np.load(f)\n"
   ]
  },
  {
   "cell_type": "markdown",
   "metadata": {},
   "source": [
    "We create a dictionary of all the candidates by using a counter from the collections library. We sort the values to analyze the top-n occuring candidates."
   ]
  },
  {
   "cell_type": "code",
   "execution_count": 10,
   "metadata": {},
   "outputs": [],
   "source": [
    "historical_dict = collections.Counter(suffixes)\n",
    "historical_sorted = sorted(historical_dict, key=historical_dict.get, reverse=True)"
   ]
  },
  {
   "cell_type": "markdown",
   "metadata": {},
   "source": [
    "The method below creates a dataframe ranking the top n-word suffixes in the historical logs."
   ]
  },
  {
   "cell_type": "code",
   "execution_count": 11,
   "metadata": {},
   "outputs": [],
   "source": [
    "def create_ranking(sorted_history, top_n=10, max_word_length=3):\n",
    "\n",
    "    top_candidates = pd.DataFrame(index=range(1, top_n+1))\n",
    "    \n",
    "    indices = [1] * max_word_length\n",
    "    \n",
    "    for suffix in sorted_history:\n",
    "        length = len(suffix.split())\n",
    "        for i in range(1, max_word_length + 1):\n",
    "            if length == i and indices[i-1] <= top_n:\n",
    "                top_candidates.at[indices[i-1], \"Top \"+str(i)+\"-word suffixes\"] = suffix\n",
    "                indices[i-1] += 1\n",
    "    return top_candidates"
   ]
  },
  {
   "cell_type": "markdown",
   "metadata": {},
   "source": [
    "To demonstrate, below we create the top 20 n-word rankings for n = 1 to n = 5."
   ]
  },
  {
   "cell_type": "code",
   "execution_count": 12,
   "metadata": {},
   "outputs": [
    {
     "data": {
      "text/html": [
       "<table border=\"1\" class=\"dataframe\">\n",
       "  <thead>\n",
       "    <tr style=\"text-align: right;\">\n",
       "      <th></th>\n",
       "      <th>Top 1-word suffixes</th>\n",
       "      <th>Top 2-word suffixes</th>\n",
       "      <th>Top 3-word suffixes</th>\n",
       "      <th>Top 4-word suffixes</th>\n",
       "      <th>Top 5-word suffixes</th>\n",
       "    </tr>\n",
       "  </thead>\n",
       "  <tbody>\n",
       "    <tr>\n",
       "      <th>1</th>\n",
       "      <td>com</td>\n",
       "      <td>yahoo com</td>\n",
       "      <td>www yahoo com</td>\n",
       "      <td>deal or no deal</td>\n",
       "      <td>keywords or web addresses here</td>\n",
       "    </tr>\n",
       "    <tr>\n",
       "      <th>2</th>\n",
       "      <td>-</td>\n",
       "      <td>myspace com</td>\n",
       "      <td>www google com</td>\n",
       "      <td>www disney channel com</td>\n",
       "      <td>antique car shows in alabama</td>\n",
       "    </tr>\n",
       "    <tr>\n",
       "      <th>3</th>\n",
       "      <td>google</td>\n",
       "      <td>google com</td>\n",
       "      <td>www myspace com</td>\n",
       "      <td>bed bath and beyond</td>\n",
       "      <td>mother of the bride dresses</td>\n",
       "    </tr>\n",
       "    <tr>\n",
       "      <th>4</th>\n",
       "      <td>org</td>\n",
       "      <td>for sale</td>\n",
       "      <td>bank of america</td>\n",
       "      <td>in new york city</td>\n",
       "      <td>y s e evergreen solar</td>\n",
       "    </tr>\n",
       "    <tr>\n",
       "      <th>5</th>\n",
       "      <td>net</td>\n",
       "      <td>ebay com</td>\n",
       "      <td>my space com</td>\n",
       "      <td>www my space com</td>\n",
       "      <td>www bank of america com</td>\n",
       "    </tr>\n",
       "    <tr>\n",
       "      <th>6</th>\n",
       "      <td>ebay</td>\n",
       "      <td>new york</td>\n",
       "      <td>adserver ign com</td>\n",
       "      <td>or web addresses here</td>\n",
       "      <td>television images and theme songs</td>\n",
       "    </tr>\n",
       "    <tr>\n",
       "      <th>7</th>\n",
       "      <td>lyrics</td>\n",
       "      <td>real estate</td>\n",
       "      <td>mycl cravelyrics com</td>\n",
       "      <td>bank of america com</td>\n",
       "      <td>wants to be a millionaire</td>\n",
       "    </tr>\n",
       "    <tr>\n",
       "      <th>8</th>\n",
       "      <td>yahoo</td>\n",
       "      <td>hotmail com</td>\n",
       "      <td>disney channel com</td>\n",
       "      <td>for sale by owner</td>\n",
       "      <td>k nshop rgift thm s</td>\n",
       "    </tr>\n",
       "    <tr>\n",
       "      <th>9</th>\n",
       "      <td>pictures</td>\n",
       "      <td>my space</td>\n",
       "      <td>www ebay com</td>\n",
       "      <td>car shows in alabama</td>\n",
       "      <td>http www disney channel com</td>\n",
       "    </tr>\n",
       "    <tr>\n",
       "      <th>10</th>\n",
       "      <td>gov</td>\n",
       "      <td>of america</td>\n",
       "      <td>www hotmail com</td>\n",
       "      <td>days of our lives</td>\n",
       "      <td>mystery case files prime suspects</td>\n",
       "    </tr>\n",
       "    <tr>\n",
       "      <th>11</th>\n",
       "      <td>edu</td>\n",
       "      <td>high school</td>\n",
       "      <td>federal credit union</td>\n",
       "      <td>panic at the disco</td>\n",
       "      <td>message board for devon energy</td>\n",
       "    </tr>\n",
       "    <tr>\n",
       "      <th>12</th>\n",
       "      <td>games</td>\n",
       "      <td>aol com</td>\n",
       "      <td>in new york</td>\n",
       "      <td>county clerk of courts</td>\n",
       "      <td>map of the united states</td>\n",
       "    </tr>\n",
       "    <tr>\n",
       "      <th>13</th>\n",
       "      <td>myspace</td>\n",
       "      <td>msn com</td>\n",
       "      <td>new york city</td>\n",
       "      <td>slirsredirect search aol com</td>\n",
       "      <td>sins of midnight kimberly logan</td>\n",
       "    </tr>\n",
       "    <tr>\n",
       "      <th>14</th>\n",
       "      <td>mapquest</td>\n",
       "      <td>map quest</td>\n",
       "      <td>www mapquest com</td>\n",
       "      <td>http my space com</td>\n",
       "      <td>n y s e wipro</td>\n",
       "    </tr>\n",
       "    <tr>\n",
       "      <th>15</th>\n",
       "      <td>sale</td>\n",
       "      <td>american idol</td>\n",
       "      <td>profileedit myspace com</td>\n",
       "      <td>in the united states</td>\n",
       "      <td>panic at the disco lyrics</td>\n",
       "    </tr>\n",
       "    <tr>\n",
       "      <th>16</th>\n",
       "      <td>florida</td>\n",
       "      <td>new jersey</td>\n",
       "      <td>kelly blue book</td>\n",
       "      <td>of the united states</td>\n",
       "      <td>. . . . .</td>\n",
       "    </tr>\n",
       "    <tr>\n",
       "      <th>17</th>\n",
       "      <td>pics</td>\n",
       "      <td>mapquest com</td>\n",
       "      <td>homes for sale</td>\n",
       "      <td>of the bride dresses</td>\n",
       "      <td>http www my space com</td>\n",
       "    </tr>\n",
       "    <tr>\n",
       "      <th>18</th>\n",
       "      <td>us</td>\n",
       "      <td>space com</td>\n",
       "      <td>in new jersey</td>\n",
       "      <td>www fafsa ed gov</td>\n",
       "      <td>bed and breakfast for sale</td>\n",
       "    </tr>\n",
       "    <tr>\n",
       "      <th>19</th>\n",
       "      <td>school</td>\n",
       "      <td>myspace layouts</td>\n",
       "      <td>www msn com</td>\n",
       "      <td>www ask jeeves com</td>\n",
       "      <td>nshop rgift thm s&amp;lid 256</td>\n",
       "    </tr>\n",
       "    <tr>\n",
       "      <th>20</th>\n",
       "      <td>news</td>\n",
       "      <td>credit union</td>\n",
       "      <td>or no deal</td>\n",
       "      <td>the huns yellow pages</td>\n",
       "      <td>nshop rgift thm s&amp;lid 2048</td>\n",
       "    </tr>\n",
       "  </tbody>\n",
       "</table>"
      ],
      "text/plain": [
       "<IPython.core.display.HTML object>"
      ]
     },
     "metadata": {},
     "output_type": "display_data"
    }
   ],
   "source": [
    "top_candidates = create_ranking(historical_sorted, top_n=20, max_word_length=5)\n",
    "display(HTML(top_candidates.to_html()))"
   ]
  },
  {
   "cell_type": "markdown",
   "metadata": {},
   "source": [
    "We can also visualize the frequencies of the top n-word suffixes using word clouds. Below we visualize the top 20 4-word suffixes."
   ]
  },
  {
   "cell_type": "code",
   "execution_count": 13,
   "metadata": {},
   "outputs": [
    {
     "data": {
      "image/png": "[encoded data removed]",
      "text/plain": [
       "<Figure size 432x288 with 1 Axes>"
      ]
     },
     "metadata": {
      "needs_background": "light"
     },
     "output_type": "display_data"
    }
   ],
   "source": [
    "def gen_wordcloud(dictionary, amount_words, n=10):\n",
    "    new_dict = {}\n",
    "    for (key, value) in dictionary.items():\n",
    "        if len(key.split()) == amount_words:\n",
    "           new_dict[key] = value\n",
    "    \n",
    "    \n",
    "    wordcloud = WordCloud(max_words=n).generate_from_frequencies(new_dict)\n",
    "\n",
    "    plt.imshow(wordcloud, interpolation='bilinear')\n",
    "    plt.axis(\"off\")\n",
    "    plt.show()\n",
    "\n",
    "gen_wordcloud(historical_dict, 4, 20)"
   ]
  },
  {
   "cell_type": "markdown",
   "metadata": {},
   "source": [
    "The next features we need are the n-gram frequencies, as they are called in the paper. Below the method for the generation of these features is implemented."
   ]
  },
  {
   "cell_type": "code",
   "execution_count": 14,
   "metadata": {},
   "outputs": [],
   "source": [
    "def ngram_freq(candidate, historical_logs, n=6):\n",
    "    words = candidate.split()\n",
    "    ngram_features = []\n",
    "    for i in range(1, n + 1):\n",
    "        ngramfreq_i = 0\n",
    "        ngrams_i = ngrams(words, i)\n",
    "        for word in ngrams_i:\n",
    "            freq_g = historical_logs[\" \".join(word)]\n",
    "            ngramfreq_i += freq_g\n",
    "        ngram_features.append(ngramfreq_i)\n",
    "    return ngram_features"
   ]
  },
  {
   "cell_type": "markdown",
   "metadata": {},
   "source": [
    "An example of a candidate is \"place to live in the greek islands for americans\". Below we show the extraction of the ngram frequencies for up to 6-grams of this candidate. The number at index i is how often all of the (i+1)-grams occur in the historical logs"
   ]
  },
  {
   "cell_type": "code",
   "execution_count": 15,
   "metadata": {},
   "outputs": [
    {
     "data": {
      "text/plain": [
       "[1141, 63, 12, 0, 0, 0]"
      ]
     },
     "execution_count": 15,
     "metadata": {},
     "output_type": "execute_result"
    }
   ],
   "source": [
    "candidate = \"place to live in the greek islands for americans\"\n",
    "ngramfeatures = ngram_freq(candidate, historical_dict, n=6)\n",
    "ngramfeatures"
   ]
  },
  {
   "cell_type": "markdown",
   "metadata": {},
   "source": [
    "Finally, the last features are:\n",
    "* The frequency of the candidate in the historical logs\n",
    "* The length of the prefix in chars and words\n",
    "* The length of the suffix in chars and words\n",
    "* The length of the candidate in chars and words\n",
    "* A binary feature indicating whether the prefix ends with a space"
   ]
  },
  {
   "cell_type": "code",
   "execution_count": 16,
   "metadata": {},
   "outputs": [],
   "source": [
    "def get_other_features(candidate, historical_logs):\n",
    "    # The prefix of the candidate\n",
    "    prefix = candidate[0]\n",
    "    \n",
    "    # Boolean indicating whether the prefix ends with a space\n",
    "    bool_space = prefix.endswith(\" \")\n",
    "    \n",
    "    # The suffix of the candidate\n",
    "    suffix = candidate[1]\n",
    "    \n",
    "    # The complete query\n",
    "    complete = \"\"\n",
    "    if bool_space:\n",
    "        complete = candidate[0] + candidate[1]\n",
    "    else:\n",
    "        complete = candidate[0] + \" \" + candidate[1]\n",
    "    \n",
    "    # The frequency of the candidate in the historical logs\n",
    "    frequency = historical_logs[complete]\n",
    "    \n",
    "    # Prefix, suffix and total length in characters\n",
    "    prefixlen_char = len(prefix)\n",
    "    suffixlen_char = len(suffix)\n",
    "    totallen_char = len(complete)\n",
    "    \n",
    "    # Prefix, suffix and total length in words\n",
    "    prefixlen_word = len(prefix.split())\n",
    "    suffixlen_word = len(suffix.split())\n",
    "    totallen_word = len(complete.split())\n",
    "    \n",
    "    return [frequency, \n",
    "            prefixlen_char, suffixlen_char, totallen_char,\n",
    "            prefixlen_word, suffixlen_word, totallen_word,\n",
    "            bool_space * 1]"
   ]
  },
  {
   "cell_type": "markdown",
   "metadata": {},
   "source": [
    "Below is an example of the extraction of the 'other features' from two example candidates"
   ]
  },
  {
   "cell_type": "code",
   "execution_count": 17,
   "metadata": {},
   "outputs": [
    {
     "name": "stdout",
     "output_type": "stream",
     "text": [
      "[0, 6, 11, 18, 2, 3, 5, 0]\n",
      "[0, 16, 8, 24, 3, 2, 5, 1]\n"
     ]
    }
   ],
   "source": [
    "candidate1 = [\"How to\", \"cook an egg\"]\n",
    "candidate2 = [\"The best places \", \"to visit\"]\n",
    "\n",
    "f1 = get_other_features(candidate1, historical_dict)\n",
    "f2 = get_other_features(candidate2, historical_dict)\n",
    "print(f1)\n",
    "print(f2)"
   ]
  },
  {
   "cell_type": "code",
   "execution_count": null,
   "metadata": {},
   "outputs": [],
   "source": []
  }
 ],
 "metadata": {
  "kernelspec": {
   "display_name": "Python 3",
   "language": "python",
   "name": "python3"
  },
  "language_info": {
   "codemirror_mode": {
    "name": "ipython",
    "version": 3
   },
   "file_extension": ".py",
   "mimetype": "text/x-python",
   "name": "python",
   "nbconvert_exporter": "python",
   "pygments_lexer": "ipython3",
   "version": "3.7.7"
  }
 },
 "nbformat": 4,
 "nbformat_minor": 4
}
