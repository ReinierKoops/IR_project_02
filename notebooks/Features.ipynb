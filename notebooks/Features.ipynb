{
 "cells": [
  {
   "cell_type": "code",
   "execution_count": 2,
   "metadata": {},
   "outputs": [],
   "source": [
    "import pandas as pd\n",
    "import glob\n",
    "import re\n",
    "import collections\n",
    "import numpy as np\n",
    "import matplotlib.pyplot as plt\n",
    "from nltk.util import ngrams\n",
    "from wordcloud import WordCloud\n",
    "from IPython.display import display, HTML"
   ]
  },
  {
   "cell_type": "markdown",
   "metadata": {},
   "source": [
    "First we need to combine all data files, since the data set is split among different files"
   ]
  },
  {
   "cell_type": "code",
   "execution_count": 38,
   "metadata": {},
   "outputs": [
    {
     "name": "stderr",
     "output_type": "stream",
     "text": [
      "c:\\users\\yusuf\\appdata\\local\\programs\\python\\python37\\lib\\site-packages\\IPython\\core\\interactiveshell.py:3249: DtypeWarning: Columns (0,3) have mixed types. Specify dtype option on import or set low_memory=False.\n",
      "  if (await self.run_code(code, result,  async_=asy)):\n"
     ]
    }
   ],
   "source": [
    "df = pd.concat([pd.read_csv(f, delimiter='\\t') for f in glob.glob('data/user-ct-test-collection-*.txt')])"
   ]
  },
  {
   "cell_type": "markdown",
   "metadata": {},
   "source": [
    "Next up, we randomly sample 1 million queries from the data set"
   ]
  },
  {
   "cell_type": "code",
   "execution_count": null,
   "metadata": {},
   "outputs": [],
   "source": [
    "queries = df.sample(1000000, random_state=23)"
   ]
  },
  {
   "cell_type": "markdown",
   "metadata": {},
   "source": [
    "Then, we create all possible suffixes by splitting the queries in words and iteratively removing the leading word, during this process, we normalize URLs by using a regex that detects the dots in URLs and replaces them by spaces."
   ]
  },
  {
   "cell_type": "code",
   "execution_count": null,
   "metadata": {},
   "outputs": [],
   "source": [
    "suffixes = []\n",
    "\n",
    "for i, row in queries.iterrows():\n",
    "    query = row['Query']\n",
    "    if isinstance(query, str):\n",
    "        line = re.sub(r\"\\.(.)\", r\" \\1\", query)\n",
    "        queries.at[i, 'Query'] = line\n",
    "        words = query.split()\n",
    "        for j in range(0, len(words)):\n",
    "            suffix = \" \".join(words[j:])\n",
    "            suffixes.append(suffix)\n",
    "\n",
    "# np.save('pickles/historical_logs', suffixes)"
   ]
  },
  {
   "cell_type": "markdown",
   "metadata": {},
   "source": [
    "Since this process takes quite a while, we store the results. We choose a hdf5 file since the array is very large and needs to be stored efficiently."
   ]
  },
  {
   "cell_type": "code",
   "execution_count": null,
   "metadata": {},
   "outputs": [],
   "source": [
    "with h5py.File('pickles/historical_logs.h5', 'w') as hf:\n",
    "    hf.create_dataset(\"historical_logs\",  data=suffixes)"
   ]
  },
  {
   "cell_type": "markdown",
   "metadata": {},
   "source": [
    "If we already have a save-file, we can skip the steps performed before and start from this point on by reading the file in."
   ]
  },
  {
   "cell_type": "code",
   "execution_count": null,
   "metadata": {},
   "outputs": [],
   "source": [
    "with h5py.File('pickles/historical_logs.h5', 'r') as hf:\n",
    "    suffixes = hf['historical_logs'][:]"
   ]
  },
  {
   "cell_type": "markdown",
   "metadata": {},
   "source": [
    "We create a dictionary of all the candidates by using a counter from the collections library. We sort the values to analyze the top-n occuring candidates."
   ]
  },
  {
   "cell_type": "code",
   "execution_count": 48,
   "metadata": {},
   "outputs": [],
   "source": [
    "suffixes = np.load('pickles/suffix_candidates.npy')\n",
    "\n",
    "historical_dict = collections.Counter(suffixes)\n",
    "# historical_sorted = sorted(historical_dict, key=historical_dict.get, reverse=True)"
   ]
  },
  {
   "cell_type": "markdown",
   "metadata": {},
   "source": [
    "The method below creates a dataframe ranking the top n-word suffixes in the historical logs."
   ]
  },
  {
   "cell_type": "code",
   "execution_count": 35,
   "metadata": {},
   "outputs": [],
   "source": [
    "def create_ranking(sorted_history, top_n=10, max_word_length=3):\n",
    "\n",
    "    top_candidates = pd.DataFrame(index=range(1, top_n+1))\n",
    "    \n",
    "    indices = [1] * max_word_length\n",
    "    \n",
    "    for suffix in sorted_history:\n",
    "        length = len(suffix.split())\n",
    "        for i in range(1, max_word_length + 1):\n",
    "            if length == i and indices[i-1] <= 10:\n",
    "                top_candidates.at[indices[i-1], \"Top \"+str(i)+\"-word suffixes\"] = suffix\n",
    "                indices[i-1] += 1\n",
    "    return top_candidates"
   ]
  },
  {
   "cell_type": "markdown",
   "metadata": {},
   "source": [
    "To demonstrate, below we create the top 5 n-word rankings for n = 1 to n = 5."
   ]
  },
  {
   "cell_type": "code",
   "execution_count": 37,
   "metadata": {},
   "outputs": [
    {
     "data": {
      "text/html": [
       "<table border=\"1\" class=\"dataframe\">\n",
       "  <thead>\n",
       "    <tr style=\"text-align: right;\">\n",
       "      <th></th>\n",
       "      <th>Top 1-word suffixes</th>\n",
       "      <th>Top 2-word suffixes</th>\n",
       "      <th>Top 3-word suffixes</th>\n",
       "      <th>Top 4-word suffixes</th>\n",
       "      <th>Top 5-word suffixes</th>\n",
       "    </tr>\n",
       "  </thead>\n",
       "  <tbody>\n",
       "    <tr>\n",
       "      <th>1</th>\n",
       "      <td>com</td>\n",
       "      <td>for sale</td>\n",
       "      <td>new york city</td>\n",
       "      <td>in new york city</td>\n",
       "      <td>keywords or web addresses here</td>\n",
       "    </tr>\n",
       "    <tr>\n",
       "      <th>2</th>\n",
       "      <td>lyrics</td>\n",
       "      <td>new york</td>\n",
       "      <td>in new york</td>\n",
       "      <td>or web addresses here</td>\n",
       "      <td>k nshop rgift thm s</td>\n",
       "    </tr>\n",
       "    <tr>\n",
       "      <th>3</th>\n",
       "      <td>.com</td>\n",
       "      <td>new jersey</td>\n",
       "      <td>chamber of commerce</td>\n",
       "      <td>in the united states</td>\n",
       "      <td>nshop rgift thm s&amp;lid 256</td>\n",
       "    </tr>\n",
       "    <tr>\n",
       "      <th>4</th>\n",
       "      <td>florida</td>\n",
       "      <td>real estate</td>\n",
       "      <td>in new jersey</td>\n",
       "      <td>real estate for sale</td>\n",
       "      <td>nshop rgift thm s&amp;lid 512</td>\n",
       "    </tr>\n",
       "    <tr>\n",
       "      <th>5</th>\n",
       "      <td>school</td>\n",
       "      <td>high school</td>\n",
       "      <td>homes for sale</td>\n",
       "      <td>in new york state</td>\n",
       "      <td>nshop rgift thm s&amp;lid 2048</td>\n",
       "    </tr>\n",
       "    <tr>\n",
       "      <th>6</th>\n",
       "      <td>texas</td>\n",
       "      <td>north carolina</td>\n",
       "      <td>in north carolina</td>\n",
       "      <td>in san antonio texas</td>\n",
       "      <td>life of zack and cody</td>\n",
       "    </tr>\n",
       "    <tr>\n",
       "      <th>7</th>\n",
       "      <td>pictures</td>\n",
       "      <td>las vegas</td>\n",
       "      <td>federal credit union</td>\n",
       "      <td>long island new york</td>\n",
       "      <td>for sale in new york</td>\n",
       "    </tr>\n",
       "    <tr>\n",
       "      <th>8</th>\n",
       "      <td>sale</td>\n",
       "      <td>in florida</td>\n",
       "      <td>in las vegas</td>\n",
       "      <td>for sale by owner</td>\n",
       "      <td>restaurant in new york city</td>\n",
       "    </tr>\n",
       "    <tr>\n",
       "      <th>9</th>\n",
       "      <td>ny</td>\n",
       "      <td>los angeles</td>\n",
       "      <td>in los angeles</td>\n",
       "      <td>in san antonio tx</td>\n",
       "      <td>in atlantic city new jersey</td>\n",
       "    </tr>\n",
       "    <tr>\n",
       "      <th>10</th>\n",
       "      <td>ohio</td>\n",
       "      <td>school district</td>\n",
       "      <td>web addresses here</td>\n",
       "      <td>of the united states</td>\n",
       "      <td>in long island new york</td>\n",
       "    </tr>\n",
       "  </tbody>\n",
       "</table>"
      ],
      "text/plain": [
       "<IPython.core.display.HTML object>"
      ]
     },
     "metadata": {},
     "output_type": "display_data"
    }
   ],
   "source": [
    "top_candidates = create_ranking(historical_sorted, top_n=5, max_word_length=5)\n",
    "display(HTML(top_candidates.to_html()))"
   ]
  },
  {
   "cell_type": "markdown",
   "metadata": {},
   "source": [
    "We can also visualize the frequencies of the top n-word suffixes using word clouds. Below we visualize the top 20 4-word suffixes."
   ]
  },
  {
   "cell_type": "code",
   "execution_count": 123,
   "metadata": {},
   "outputs": [
    {
     "data": {
      "image/png": "[encoded data removed]",
      "text/plain": [
       "<Figure size 432x288 with 1 Axes>"
      ]
     },
     "metadata": {
      "needs_background": "light"
     },
     "output_type": "display_data"
    }
   ],
   "source": [
    "def gen_wordcloud(dictionary, amount_words, n=10):\n",
    "    new_dict = {}\n",
    "    for (key, value) in dictionary.items():\n",
    "        if len(key.split()) == amount_words:\n",
    "           new_dict[key] = value\n",
    "    \n",
    "    \n",
    "    wordcloud = WordCloud(max_words=n).generate_from_frequencies(new_dict)\n",
    "\n",
    "    plt.imshow(wordcloud, interpolation='bilinear')\n",
    "    plt.axis(\"off\")\n",
    "    plt.show()\n",
    "\n",
    "gen_wordcloud(historical_dict, 4, 20)"
   ]
  },
  {
   "cell_type": "markdown",
   "metadata": {},
   "source": [
    "The next features we need are the n-gram frequencies, as they are called in the paper. Below the method for the generation of these features is implemented."
   ]
  },
  {
   "cell_type": "code",
   "execution_count": 104,
   "metadata": {},
   "outputs": [],
   "source": [
    "def ngram_freq(candidate, historical_logs, n=6):\n",
    "    words = candidate.split()\n",
    "    ngram_features = []\n",
    "    for i in range(1, n + 1):\n",
    "        ngramfreq_i = 0\n",
    "        ngrams_i = ngrams(words, i)\n",
    "        for word in ngrams_i:\n",
    "            freq_g = historical_logs[\" \".join(word)]\n",
    "            ngramfreq_i += freq_g\n",
    "        ngram_features.append(ngramfreq_i)\n",
    "    return ngram_features"
   ]
  },
  {
   "cell_type": "markdown",
   "metadata": {},
   "source": [
    "An example of a candidate is \"place to live in the greek islands for americans\". Below we show the extraction of the ngram frequencies for up to 6-grams of this candidate. The number at index i is how often all of the (i+1)-grams occur in the historical logs"
   ]
  },
  {
   "cell_type": "code",
   "execution_count": 124,
   "metadata": {},
   "outputs": [
    {
     "data": {
      "text/plain": [
       "[1564, 63, 11, 2, 2, 2]"
      ]
     },
     "execution_count": 124,
     "metadata": {},
     "output_type": "execute_result"
    }
   ],
   "source": [
    "candidate = \"place to live in the greek islands for americans\"\n",
    "ngramfeatures = ngram_freq(candidate, historical_dict, n=6)\n",
    "ngramfeatures"
   ]
  },
  {
   "cell_type": "code",
   "execution_count": null,
   "metadata": {},
   "outputs": [],
   "source": [
    "def get_other_features(candidate, historical_logs):\n",
    "    features = []\n",
    "    frequency = historical_logs[candidate]"
   ]
  },
  {
   "cell_type": "code",
   "execution_count": 51,
   "metadata": {},
   "outputs": [
    {
     "data": {
      "text/plain": [
       "'com'"
      ]
     },
     "execution_count": 51,
     "metadata": {},
     "output_type": "execute_result"
    }
   ],
   "source": []
  },
  {
   "cell_type": "code",
   "execution_count": null,
   "metadata": {},
   "outputs": [],
   "source": []
  }
 ],
 "metadata": {
  "kernelspec": {
   "display_name": "Python 3",
   "language": "python",
   "name": "python3"
  },
  "language_info": {
   "codemirror_mode": {
    "name": "ipython",
    "version": 3
   },
   "file_extension": ".py",
   "mimetype": "text/x-python",
   "name": "python",
   "nbconvert_exporter": "python",
   "pygments_lexer": "ipython3",
   "version": "3.7.5"
  }
 },
 "nbformat": 4,
 "nbformat_minor": 2
}
