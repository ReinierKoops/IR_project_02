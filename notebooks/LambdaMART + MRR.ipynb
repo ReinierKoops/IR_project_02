{
 "cells": [
  {
   "cell_type": "code",
   "execution_count": null,
   "metadata": {},
   "outputs": [],
   "source": [
    "from lambdamart import LambdaMART \n",
    "import numpy as np\n",
    "import pickle\n",
    "import pandas as pd\n",
    "\n",
    "from tqdm import tqdm_notebook\n",
    "from IPython.display import display, clear_output\n",
    "from sklearn.model_selection import train_test_split"
   ]
  },
  {
   "cell_type": "code",
   "execution_count": null,
   "metadata": {},
   "outputs": [],
   "source": [
    "with open('data/featurevectors.pickle', 'rb') as f:\n",
    "    train_data_processed = pickle.load(f)\n",
    "\n",
    "df = pd.DataFrame(train_data_processed, columns=['qid', 'f1', 'f2', 'f3', 'f4', 'f5', 'f6', 'f7', 'f8', 'f9', 'f10', 'f11', 'label' ])"
   ]
  },
  {
   "cell_type": "code",
   "execution_count": null,
   "metadata": {},
   "outputs": [],
   "source": [
    "df = df[['label', 'qid', 'f1', 'f2', 'f3', 'f4', 'f5', 'f6', 'f7', 'f8', 'f9', 'f10', 'f11']]\n",
    "\n",
    "splitpoint = int(0.8*len(df))\n",
    "\n",
    "train_df = df.iloc[:splitpoint, :]\n",
    "test_df = df.iloc[splitpoint:, :]"
   ]
  },
  {
   "cell_type": "code",
   "execution_count": null,
   "metadata": {},
   "outputs": [],
   "source": [
    "model = LambdaMART(\n",
    "\ttraining_data=train_df.to_numpy(), \n",
    "\tnumber_of_trees=300, \n",
    "\tlearning_rate=0.01)\n",
    "model.fit()\n",
    "\n",
    "model.save('lambdamart_300trees')\n"
   ]
  },
  {
   "cell_type": "code",
   "execution_count": null,
   "metadata": {},
   "outputs": [],
   "source": [
    "model = LambdaMART()\n",
    "model.load('lambdamart_300trees.lmart')"
   ]
  },
  {
   "cell_type": "code",
   "execution_count": null,
   "metadata": {},
   "outputs": [],
   "source": [
    "test_data = test_df.to_numpy()\n",
    "average_ndcg, predicted_scores = model.validate(test_data, k=10)\n",
    "predicted_scores = model.predict(test_data[:,1:])"
   ]
  },
  {
   "cell_type": "code",
   "execution_count": null,
   "metadata": {
    "scrolled": true
   },
   "outputs": [],
   "source": [
    "test_by_qid = {}\n",
    "\n",
    "counter = 1\n",
    "for row in test_df.itertuples():\n",
    "    qid = row.qid\n",
    "    clear_output(wait=True)\n",
    "    display('Iteration '+str(counter)+' of '+ str(len(test_df)))\n",
    "    counter += 1\n",
    "    \n",
    "    if qid in test_by_qid:\n",
    "        test_by_qid[qid].append(np.array(row))\n",
    "    else:\n",
    "        test_by_qid[qid] = [np.array(row)]"
   ]
  },
  {
   "cell_type": "code",
   "execution_count": null,
   "metadata": {},
   "outputs": [],
   "source": [
    "def sort_list(list1, list2): \n",
    "  \n",
    "    zipped_pairs = zip(list1, list2) \n",
    "  \n",
    "    z = [x for _, x in sorted(zipped_pairs, key=lambda b:b[0])] \n",
    "      \n",
    "    return z \n",
    "\n",
    "mrrs = []\n",
    "for key in test_by_qid:\n",
    "    candidates = np.array(test_by_qid[key])\n",
    "\n",
    "    predictions = model.predict(candidates[:,2:])\n",
    "    sortedList = sort_list(predictions, candidates)\n",
    "\n",
    "    for i in range(len(sortedList)):\n",
    "        label = sortedList[i][1]\n",
    "        mrr = 0\n",
    "        if label == 1:\n",
    "            mrr = 1 / (i+1)\n",
    "            break\n",
    "    mrrs.append(mrr)    "
   ]
  },
  {
   "cell_type": "code",
   "execution_count": null,
   "metadata": {},
   "outputs": [],
   "source": [
    "MRR = np.mean(mrrs)"
   ]
  }
 ],
 "metadata": {
  "kernelspec": {
   "display_name": "Python 3",
   "language": "python",
   "name": "python3"
  },
  "language_info": {
   "codemirror_mode": {
    "name": "ipython",
    "version": 3
   },
   "file_extension": ".py",
   "mimetype": "text/x-python",
   "name": "python",
   "nbconvert_exporter": "python",
   "pygments_lexer": "ipython3",
   "version": "3.7.5"
  }
 },
 "nbformat": 4,
 "nbformat_minor": 2
}
