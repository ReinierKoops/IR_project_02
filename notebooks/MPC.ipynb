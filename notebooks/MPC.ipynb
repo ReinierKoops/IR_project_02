{
 "cells": [
  {
   "cell_type": "code",
   "execution_count": 1,
   "metadata": {},
   "outputs": [],
   "source": [
    "import pandas as pd\n",
    "import re\n",
    "import numpy as np\n",
    "from collections import Counter\n",
    "from bisect import bisect_left"
   ]
  },
  {
   "cell_type": "code",
   "execution_count": 2,
   "metadata": {
    "pycharm": {
     "name": "#%%\n"
    }
   },
   "outputs": [],
   "source": [
    "path_to_folder = '/Users/rwkoops/PycharmProjects/IR_project/IR_project_02/'\n",
    "prefixes = pd.read_pickle(path_to_folder + 'created_sample/prefixes_1m.pickle')\n",
    "\n",
    "samples_hist = pd.read_pickle(path_to_folder + 'created_sample/sample_hist_1m.pickle')   \n",
    "samples_hist['Query_clean'] = samples_hist['Query'].map(lambda string: re.sub(r\"[^A-Za-z0-9]+\", \" \", str(string)).lower().strip())\n",
    "samples_hist['Query_clean'].replace('', np.nan, inplace=True)\n",
    "samples_hist.dropna(subset=['Query_clean'], inplace=True)\n",
    "hist_q = samples_hist['Query_clean']"
   ]
  },
  {
   "cell_type": "code",
   "execution_count": 3,
   "metadata": {},
   "outputs": [],
   "source": [
    "hist_dict = Counter(list(samples_hist['Query_clean']))\n",
    "hist_list = hist_dict.most_common()\n",
    "hist_sort = sorted([i[0] for i in hist_list])\n",
    "\n",
    "prefixes = prefixes.sort_values(by=['Prefix'])\n",
    "prefixes.columns = ['Query', 'Qid', 'Prefix']\n",
    "prefix_q = prefixes[['Query','Prefix']]"
   ]
  },
  {
   "cell_type": "code",
   "execution_count": 4,
   "metadata": {},
   "outputs": [],
   "source": [
    "# Check if it contains suffix\n",
    "def bisect_contains_check(hist_list, prefix):\n",
    "    try:\n",
    "        return hist_list[bisect_left(hist_list, prefix)].startswith(prefix)\n",
    "    except IndexError:\n",
    "        return False\n",
    "\n",
    "# Returns the prefix keys\n",
    "def bisect_list_slice(hist_list, prefix):\n",
    "    return hist_list[bisect_left(hist_list, prefix):\n",
    "         bisect_left(hist_list, prefix[:-1] + chr(ord(prefix[-1])+1))]"
   ]
  },
  {
   "cell_type": "code",
   "execution_count": 5,
   "metadata": {},
   "outputs": [
    {
     "name": "stdout",
     "output_type": "stream",
     "text": [
      "0.21536900117884888\n"
     ]
    }
   ],
   "source": [
    "SumRR = 0\n",
    "i = 0\n",
    "\n",
    "for pr_q in prefixes.itertuples():\n",
    "    \n",
    "    if bisect_contains_check(hist_sort, pr_q.Prefix):\n",
    "        hist_match_list = bisect_list_slice(hist_sort, pr_q.Prefix)\n",
    "        \n",
    "        temp_list = []\n",
    "        \n",
    "        for key in hist_match_list:\n",
    "            if (hist_dict.get(key) is None):\n",
    "                temp_list.append([key, 0])\n",
    "            else:\n",
    "                temp_list.append([key, hist_dict.get(key)])\n",
    "    \n",
    "        temp_list.sort(key=lambda x:str(x[1]),reverse=True)\n",
    "        top_8 = [i[0] for i in temp_list[:8]]\n",
    "        \n",
    "        index = len(top_8) + 1\n",
    "        \n",
    "        for i in top_8:\n",
    "            index -= 1\n",
    "            if str(i) == str(pr_q.Query):\n",
    "                SumRR += index/(len(top_8))\n",
    "                break;\n",
    "\n",
    "MRR = SumRR / (prefixes.shape)[0]\n",
    "print(MRR)"
   ]
  }
 ],
 "metadata": {
  "kernelspec": {
   "display_name": "Python 3",
   "language": "python",
   "name": "python3"
  },
  "language_info": {
   "codemirror_mode": {
    "name": "ipython",
    "version": 3
   },
   "file_extension": ".py",
   "mimetype": "text/x-python",
   "name": "python",
   "nbconvert_exporter": "python",
   "pygments_lexer": "ipython3",
   "version": "3.7.7"
  }
 },
 "nbformat": 4,
 "nbformat_minor": 4
}
