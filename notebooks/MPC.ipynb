{
 "cells": [
  {
   "cell_type": "code",
   "execution_count": 4,
   "metadata": {
    "pycharm": {
     "name": "#%%\n"
    }
   },
   "outputs": [
    {
     "name": "stdout",
     "output_type": "stream",
     "text": [
      "1  / 107409\n",
      "2  / 107409\n",
      "3  / 107409\n",
      "4  / 107409\n"
     ]
    },
    {
     "ename": "AttributeError",
     "evalue": "'float' object has no attribute 'startswith'",
     "output_type": "error",
     "traceback": [
      "\u001B[1;31m---------------------------------------------------------------------------\u001B[0m",
      "\u001B[1;31mAttributeError\u001B[0m                            Traceback (most recent call last)",
      "\u001B[1;32m<ipython-input-4-b30838a33e09>\u001B[0m in \u001B[0;36m<module>\u001B[1;34m\u001B[0m\n\u001B[0;32m     14\u001B[0m     \u001B[0mprint\u001B[0m\u001B[1;33m(\u001B[0m\u001B[0mi\u001B[0m \u001B[1;33m,\u001B[0m\u001B[1;34m\" /\"\u001B[0m \u001B[1;33m,\u001B[0m \u001B[0mlen\u001B[0m\u001B[1;33m(\u001B[0m\u001B[0mprefixes\u001B[0m\u001B[1;33m.\u001B[0m\u001B[0mindex\u001B[0m\u001B[1;33m)\u001B[0m\u001B[1;33m)\u001B[0m\u001B[1;33m\u001B[0m\u001B[1;33m\u001B[0m\u001B[0m\n\u001B[0;32m     15\u001B[0m     \u001B[1;32mfor\u001B[0m \u001B[0mquery\u001B[0m \u001B[1;32min\u001B[0m \u001B[0mhist_queries_count\u001B[0m\u001B[1;33m.\u001B[0m\u001B[0mitertuples\u001B[0m\u001B[1;33m(\u001B[0m\u001B[1;33m)\u001B[0m\u001B[1;33m:\u001B[0m\u001B[1;33m\u001B[0m\u001B[1;33m\u001B[0m\u001B[0m\n\u001B[1;32m---> 16\u001B[1;33m         \u001B[1;32mif\u001B[0m \u001B[0mquery\u001B[0m\u001B[1;33m.\u001B[0m\u001B[0mQuery\u001B[0m\u001B[1;33m.\u001B[0m\u001B[0mstartswith\u001B[0m\u001B[1;33m(\u001B[0m\u001B[0mprefix\u001B[0m\u001B[1;33m.\u001B[0m\u001B[0mPrefix\u001B[0m\u001B[1;33m)\u001B[0m\u001B[1;33m:\u001B[0m\u001B[1;33m\u001B[0m\u001B[1;33m\u001B[0m\u001B[0m\n\u001B[0m\u001B[0;32m     17\u001B[0m             \u001B[0mcounter\u001B[0m \u001B[1;33m+=\u001B[0m\u001B[1;36m1\u001B[0m\u001B[1;33m\u001B[0m\u001B[1;33m\u001B[0m\u001B[0m\n\u001B[0;32m     18\u001B[0m             \u001B[1;32mif\u001B[0m \u001B[0mquery\u001B[0m\u001B[1;33m.\u001B[0m\u001B[0mQuery\u001B[0m \u001B[1;33m==\u001B[0m \u001B[0mprefix\u001B[0m\u001B[1;33m.\u001B[0m\u001B[0mQuery_clean\u001B[0m\u001B[1;33m:\u001B[0m\u001B[1;33m\u001B[0m\u001B[1;33m\u001B[0m\u001B[0m\n",
      "\u001B[1;31mAttributeError\u001B[0m: 'float' object has no attribute 'startswith'"
     ]
    }
   ],
   "source": [
    "import pandas as pd\n",
    "\n",
    "path_to_folder = 'C:\\\\Users\\\\Pavel\\\\PycharmProjects\\\\IR_project_02\\\\'\n",
    "prefixes = pd.read_pickle(path_to_folder + 'created_sample\\\\prefixes_1m.pickle')\n",
    "\n",
    "hist_queries_count = pd.read_csv(path_to_folder + 'created_sample\\\\mlp_count_1m.csv')\n",
    "#remove empty string row\n",
    "hist_queries_count.drop(hist_queries_count.index[0])\n",
    "counter = 0\n",
    "SumRR = 0\n",
    "i=0\n",
    "for prefix in prefixes.itertuples():\n",
    "    i+=1\n",
    "    print(i ,\" /\" , len(prefixes.index))\n",
    "    for query in hist_queries_count.itertuples():\n",
    "        if isinstance(query.Query, str): \n",
    "            if query.Query.startswith(prefix.Prefix):\n",
    "                counter +=1\n",
    "                if query.Query == prefix.Query_clean:\n",
    "                    #print(query.Query , prefix.Query_clean)\n",
    "                    #print(counter)\n",
    "                    RR=1/counter\n",
    "                    break\n",
    "            if(counter == 8):\n",
    "                counter=0\n",
    "                RR=0\n",
    "                break\n",
    "    SumRR += RR\n",
    "MRR = SumRR/len(prefixes.index)\n",
    "print(MRR)\n"
   ]
  },
  {
   "cell_type": "code",
   "execution_count": null,
   "metadata": {
    "pycharm": {
     "name": "#%%\n"
    }
   },
   "outputs": [],
   "source": [
    "\n"
   ]
  }
 ],
 "metadata": {
  "kernelspec": {
   "display_name": "Python 3",
   "language": "python",
   "name": "python3"
  }
 },
 "nbformat": 4,
 "nbformat_minor": 1
}