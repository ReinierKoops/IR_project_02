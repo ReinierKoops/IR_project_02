{
 "cells": [
  {
   "cell_type": "code",
   "execution_count": 185,
   "metadata": {},
   "outputs": [],
   "source": [
    "import pandas as pd\n",
    "import glob\n",
    "import re\n",
    "import collections\n",
    "import numpy as np\n",
    "import matplotlib.pyplot as plt\n",
    "import gzip\n",
    "import datetime\n",
    "import pickle\n",
    "import itertools\n",
    "\n",
    "from tqdm import tqdm_notebook\n",
    "from nltk.util import ngrams\n",
    "from wordcloud import WordCloud\n",
    "from IPython.display import display, HTML\n",
    "\n",
    "import spacy\n",
    "from spacy import displacy\n",
    "from collections import Counter\n",
    "from bisect import bisect_left\n",
    "\n",
    "nlp = spacy.load('en_core_web_sm')"
   ]
  },
  {
   "cell_type": "code",
   "execution_count": 2,
   "metadata": {},
   "outputs": [
    {
     "name": "stdout",
     "output_type": "stream",
     "text": [
      "22:29:13.013116\n"
     ]
    }
   ],
   "source": [
    "# Debug\n",
    "print(datetime.datetime.now().time())"
   ]
  },
  {
   "cell_type": "markdown",
   "metadata": {},
   "source": [
    "# Create dataset"
   ]
  },
  {
   "cell_type": "code",
   "execution_count": 4,
   "metadata": {},
   "outputs": [
    {
     "name": "stderr",
     "output_type": "stream",
     "text": [
      "/usr/local/lib/python3.7/site-packages/IPython/core/interactiveshell.py:3254: DtypeWarning: Columns (0,3) have mixed types.Specify dtype option on import or set low_memory=False.\n",
      "  if (await self.run_code(code, result,  async_=asy)):\n"
     ]
    }
   ],
   "source": [
    "# Generate features for dataset\n",
    "#df = pd.concat([pd.read_csv(f, delimiter='\\t') for f in glob.glob('/Users/rwkoops/PycharmProjects/IR_project/IR_project_02/data/user-ct-test-collection-*.txt')])"
   ]
  },
  {
   "cell_type": "markdown",
   "metadata": {},
   "source": [
    "## Sampled history dataset (for suffixes)\n",
    "This sample dataset is put on 1.000.000."
   ]
  },
  {
   "cell_type": "code",
   "execution_count": 334,
   "metadata": {},
   "outputs": [],
   "source": [
    "#samples_hist = df.sample(1000000, random_state=23)"
   ]
  },
  {
   "cell_type": "markdown",
   "metadata": {},
   "source": [
    "#### Save samples in pickle file"
   ]
  },
  {
   "cell_type": "code",
   "execution_count": 335,
   "metadata": {},
   "outputs": [],
   "source": [
    "#samples_hist.to_pickle('/Users/rwkoops/PycharmProjects/IR_project/IR_project_02/created_sample/sample_hist_1m.pickle')"
   ]
  },
  {
   "cell_type": "code",
   "execution_count": 336,
   "metadata": {},
   "outputs": [],
   "source": [
    "samples_hist = pd.read_pickle('/Users/rwkoops/PycharmProjects/IR_project/IR_project_02/created_sample/sample_hist_1m.pickle')"
   ]
  },
  {
   "cell_type": "markdown",
   "metadata": {},
   "source": [
    "### Create suffixes\n",
    "Create all possible suffixes, splitting per word iteratively, removing leading words.\n",
    "\n",
    "Query \"How to cook CHICKEN\" becomes:\n",
    "- how to cook chicken\n",
    "- to cook chicken\n",
    "- cook chicken\n",
    "- chicken\n",
    "\n",
    "Creating 4 prefixes.\n",
    "\n",
    "All symbols are removed and changed to lowercase."
   ]
  },
  {
   "cell_type": "code",
   "execution_count": 337,
   "metadata": {},
   "outputs": [],
   "source": [
    "suffixes = []\n",
    "\n",
    "for row in samples_hist.itertuples():\n",
    "    line = re.sub(r\"[^A-Za-z0-9]+\", \" \", str(row.Query)).lower()\n",
    "    words = line.split()\n",
    "    for j in range(0, len(words)):\n",
    "        suffix = \" \".join(words[j:])\n",
    "        suffixes.append(suffix)"
   ]
  },
  {
   "cell_type": "markdown",
   "metadata": {},
   "source": [
    "#### Save samples in pickle file"
   ]
  },
  {
   "cell_type": "code",
   "execution_count": 338,
   "metadata": {},
   "outputs": [],
   "source": [
    "#with open('/Users/rwkoops/PycharmProjects/IR_project/IR_project_02/created_sample/hist_suffixes.pickle_1m', 'wb') as f:\n",
    "#    pickle.dump(suffixes, f)"
   ]
  },
  {
   "cell_type": "code",
   "execution_count": 339,
   "metadata": {},
   "outputs": [],
   "source": [
    "with open('/Users/rwkoops/PycharmProjects/IR_project/IR_project_02/created_sample/hist_suffixes.pickle_1m', 'rb') as f:\n",
    "    suffixes = pickle.load(f)"
   ]
  },
  {
   "cell_type": "markdown",
   "metadata": {},
   "source": [
    "## Sampled dataset (for prefixes)\n",
    "This sample dataset is put on 10.000."
   ]
  },
  {
   "cell_type": "code",
   "execution_count": 340,
   "metadata": {},
   "outputs": [],
   "source": [
    "samples_data = df.sample(10000, random_state=14)"
   ]
  },
  {
   "cell_type": "markdown",
   "metadata": {},
   "source": [
    "### Create prefixes\n",
    "Create all possible prefixes, splitting per letter (from second word) iteratively, removing leading words.\n",
    "\n",
    "Query \"How to cook CHICKEN\" becomes (_ = space):\n",
    "- how\n",
    "- how_\n",
    "- how_t\n",
    "- ...\n",
    "- how_to_cook_chicken\n",
    "\n",
    "Creating 17 prefixes.\n",
    "\n",
    "All symbols are removed and changed to lowercase."
   ]
  },
  {
   "cell_type": "code",
   "execution_count": 341,
   "metadata": {},
   "outputs": [],
   "source": [
    "prefix_list = []\n",
    "\n",
    "qid = 1\n",
    "\n",
    "for row in samples_data.itertuples():\n",
    "    line = re.sub(r\"[^A-Za-z0-9]+\", \" \", str(row.Query)).lower()\n",
    "    \n",
    "    # Ignore empty strings\n",
    "    if len(line.split()) > 1:   \n",
    "        firstword = line.split()[0]\n",
    "    \n",
    "        for j in range(len(firstword) + 2 , len(line)+1):\n",
    "            if (len(line[0:j].split())) <= 0:\n",
    "                print(line)\n",
    "                print('m' + str(line[0:j]) + 'm')\n",
    "            # Last three will be filled as [2]: 'clean_query', [3]: 'qid', [4]: 'prefix'\n",
    "            temp_list = [row.Index, row.Query, '', '', '']\n",
    "            temp_list[2] = line\n",
    "            temp_list[3] = \"qid:\" + str(qid)\n",
    "            temp_list[4] = line[0:j]\n",
    "            # Add to prefix query list\n",
    "            prefix_list.append(temp_list)\n",
    "            qid += 1\n",
    "    \n",
    "prefix_queries = pd.DataFrame.from_records(prefix_list)\n",
    "prefix_queries.columns = ['Index', 'Query', 'Query_clean', 'Qid', 'Prefix']"
   ]
  },
  {
   "cell_type": "markdown",
   "metadata": {},
   "source": [
    "#### Save samples in pickle file"
   ]
  },
  {
   "cell_type": "code",
   "execution_count": 342,
   "metadata": {},
   "outputs": [],
   "source": [
    "#prefix_queries.to_pickle('/Users/rwkoops/PycharmProjects/IR_project/IR_project_02/created_sample/prefixes_1m.pickle')"
   ]
  },
  {
   "cell_type": "code",
   "execution_count": 343,
   "metadata": {},
   "outputs": [],
   "source": [
    "prefix_queries = pd.read_pickle('/Users/rwkoops/PycharmProjects/IR_project/IR_project_02/created_sample/prefixes_1m.pickle')"
   ]
  },
  {
   "cell_type": "markdown",
   "metadata": {},
   "source": [
    "## Create synthetic queries\n",
    "Combine end term of prefix with top 10 suffixes "
   ]
  },
  {
   "cell_type": "code",
   "execution_count": 344,
   "metadata": {},
   "outputs": [],
   "source": [
    "suffix_dict = collections.Counter(suffixes)\n",
    "suffix_list = suffix_dict.most_common()\n",
    "suff_set_sorted = sorted([i[0] for i in suffix_list])"
   ]
  },
  {
   "cell_type": "code",
   "execution_count": null,
   "metadata": {},
   "outputs": [],
   "source": [
    "# Check if it contains suffix\n",
    "def bisect_contains_check(suffix_list, prefix):\n",
    "    try:\n",
    "        return suffix_list[bisect_left(suffix_list, prefix)].startswith(prefix)\n",
    "    except IndexError:\n",
    "        return False\n",
    "\n",
    "# Returns the prefix keys\n",
    "def bisect_list_slice(suffix_list, prefix):\n",
    "    return suffix_list[bisect_left(suffix_list, prefix):\n",
    "         bisect_left(suffix_list, prefix[:-1] + chr(ord(prefix[-1])+1))]\n",
    "\n",
    "candidate_list = []\n",
    "\n",
    "for row in prefix_queries.itertuples():\n",
    "    lastword = ''   \n",
    "    without_lastword = len(row.Prefix) - 1 - len(lastword)\n",
    "\n",
    "    endterm = row.Prefix[without_lastword:]\n",
    "    no_endterm = row.Prefix[:without_lastword]\n",
    "    \n",
    "    if (bisect_contains_check(suff_set_sorted, endterm)):\n",
    "        temp_keys = bisect_list_slice(suff_set_sorted, endterm)\n",
    "        \n",
    "        temp_suffix_dict = Counter()\n",
    "        \n",
    "        for key in temp_keys:\n",
    "            temp_suffix_dict[key] = suffix_dict.get(key)\n",
    "            \n",
    "        temp_suffix_list = temp_suffix_dict.most_common()[:10]\n",
    "        \n",
    "        for j in temp_suffix_list: \n",
    "            # Last four will be filled as [5]: 'suffix', [6]: 'Hist_Suffix_freq', [7]: 'Synthetic_query' [8]: 'matching'\n",
    "            temp_list = [row.Index, row.Query, row.Query_clean, row.Qid, row.Prefix, '', '', '', '']\n",
    "            temp_list[5] = j[0]\n",
    "            temp_list[6] = j[1]\n",
    "            temp_list[7] = str(no_endterm + str(j[0]))\n",
    "            temp_list[8] = 0\n",
    "            \n",
    "            if str(row.Query_clean) == str(no_endterm + str(j[0])):\n",
    "                temp_list[8] = 1\n",
    "            \n",
    "            # Add to synthetic query list\n",
    "            candidate_list.append(temp_list)\n",
    "    \n",
    "syn_candidate_queries = pd.DataFrame.from_records(candidate_list)\n",
    "syn_candidate_queries.columns = ['Index', 'Query', 'Query_clean', 'Qid', 'Prefix', 'Suffix', 'Hist_Suffix_freq', 'Synthetic_query', 'Synthetic_match']    \n",
    "    \n",
    "syn_candidate_queries.head"
   ]
  },
  {
   "cell_type": "code",
   "execution_count": null,
   "metadata": {},
   "outputs": [],
   "source": [
    "temp_df = syn_candidate_queries.loc[syn_candidate_queries['Synthetic_match'] == 1]\n",
    "temp_df.head"
   ]
  },
  {
   "cell_type": "markdown",
   "metadata": {},
   "source": [
    "#### Save samples in pickle file"
   ]
  },
  {
   "cell_type": "code",
   "execution_count": 323,
   "metadata": {},
   "outputs": [],
   "source": [
    "prefix_queries.to_pickle('/Users/rwkoops/PycharmProjects/IR_project/IR_project_02/created_sample/syn_candidate_queries_5m.pickle')"
   ]
  },
  {
   "cell_type": "code",
   "execution_count": 324,
   "metadata": {},
   "outputs": [],
   "source": [
    "prefix_queries = pd.read_pickle('/Users/rwkoops/PycharmProjects/IR_project/IR_project_02/created_sample/syn_candidate_queries_5m.pickle')"
   ]
  },
  {
   "cell_type": "code",
   "execution_count": null,
   "metadata": {},
   "outputs": [],
   "source": []
  },
  {
   "cell_type": "code",
   "execution_count": null,
   "metadata": {},
   "outputs": [],
   "source": []
  },
  {
   "cell_type": "code",
   "execution_count": null,
   "metadata": {},
   "outputs": [],
   "source": []
  },
  {
   "cell_type": "code",
   "execution_count": 332,
   "metadata": {},
   "outputs": [
    {
     "name": "stdout",
     "output_type": "stream",
     "text": [
      "5233272\n",
      "13923638\n",
      "['0', '0 0', '0 0 0', '0 0 0 0', '0 0 0 0 0', '0 0 0 0 0 0', '0 0 0 0 0 0 0', '0 0 0 0 0 0 0 0', '0 0 0 0 0 0 0 0 0', '0 0 0 0 0 0 0 0 0 0']\n"
     ]
    }
   ],
   "source": [
    "#suffix_dict.get('0 0 0 0 0 0 0 0 0 0 0 0 0 0 0 0 0 0 0 0 0 0 0 0 0 0 0 0 0 0')\n",
    "print(len(suff_set_sorted))\n",
    "print(len(suffixes))\n",
    "print(suff_set_sorted[:10])"
   ]
  },
  {
   "cell_type": "code",
   "execution_count": 22,
   "metadata": {},
   "outputs": [
    {
     "name": "stdout",
     "output_type": "stream",
     "text": [
      "00:06:50.605594\n"
     ]
    }
   ],
   "source": [
    "# Debug\n",
    "print(datetime.datetime.now().time())"
   ]
  }
 ],
 "metadata": {
  "kernelspec": {
   "display_name": "Python 3",
   "language": "python",
   "name": "python3"
  },
  "language_info": {
   "codemirror_mode": {
    "name": "ipython",
    "version": 3
   },
   "file_extension": ".py",
   "mimetype": "text/x-python",
   "name": "python",
   "nbconvert_exporter": "python",
   "pygments_lexer": "ipython3",
   "version": "3.7.7"
  }
 },
 "nbformat": 4,
 "nbformat_minor": 4
}
