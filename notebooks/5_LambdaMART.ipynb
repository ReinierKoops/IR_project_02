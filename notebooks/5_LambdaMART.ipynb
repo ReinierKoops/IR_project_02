{
 "cells": [
  {
   "cell_type": "code",
   "execution_count": 2,
   "metadata": {},
   "outputs": [],
   "source": [
    "import numpy as np\n",
    "import pandas as pd\n",
    "from scipy.sparse import csr_matrix\n",
    "import xgboost\n",
    "import os\n",
    "import math\n",
    "import itertools\n",
    "import shutil\n",
    "from sklearn.datasets import load_svmlight_files"
   ]
  },
  {
   "cell_type": "markdown",
   "metadata": {},
   "source": [
    "# Setup lambda boosting"
   ]
  },
  {
   "cell_type": "code",
   "execution_count": 3,
   "metadata": {},
   "outputs": [],
   "source": [
    "(x_train, y_train, qid_train, x_test, y_test, qid_test,\n",
    " x_valid, y_valid, qid_valid) = load_svmlight_files(\n",
    "    (\"evaldata.txt\", \"testdata.txt\", \"evaldata.txt\"), \n",
    "    query_id=True, zero_based=True)\n",
    "\n",
    "# instantiate the matrices\n",
    "dtrain = xgboost.DMatrix(x_train, y_train)\n",
    "dvalid = xgboost.DMatrix(x_valid, y_valid)\n",
    "dtest = xgboost.DMatrix(x_test, y_test)\n",
    "\n",
    "# set the group counts from the query IDs\n",
    "dtrain.set_group([len(list(items)) for _key, items in itertools.groupby(qid_train)])\n",
    "dtest.set_group([len(list(items)) for _key, items in itertools.groupby(qid_test)])\n",
    "dvalid.set_group([len(list(items)) for _key, items in itertools.groupby(qid_valid)])\n",
    "\n",
    "# save the query IDs for testing\n",
    "qid_train = qid_train\n",
    "qid_test = qid_test\n",
    "qid_valid = qid_valid\n",
    "\n",
    "params = {'booster': 'gbtree', 'tree_method': 'hist', 'gpu_id': -1, 'predictor': 'cpu_predictor'}"
   ]
  },
  {
   "cell_type": "markdown",
   "metadata": {},
   "source": [
    "# Train the dataset"
   ]
  },
  {
   "cell_type": "code",
   "execution_count": 4,
   "metadata": {},
   "outputs": [
    {
     "name": "stdout",
     "output_type": "stream",
     "text": [
      "[0]\teval-ndcg:0.93880\teval-map:0.91925\ttrain-ndcg:0.94188\ttrain-map:0.92315\n",
      "Multiple eval metrics have been passed: 'train-map' will be used for early stopping.\n",
      "\n",
      "Will train until train-map hasn't improved in 10 rounds.\n",
      "[1]\teval-ndcg:0.93851\teval-map:0.91883\ttrain-ndcg:0.94220\ttrain-map:0.92359\n",
      "[2]\teval-ndcg:0.93712\teval-map:0.91701\ttrain-ndcg:0.94119\ttrain-map:0.92224\n",
      "[3]\teval-ndcg:0.93783\teval-map:0.91797\ttrain-ndcg:0.94185\ttrain-map:0.92312\n",
      "[4]\teval-ndcg:0.93773\teval-map:0.91785\ttrain-ndcg:0.94217\ttrain-map:0.92360\n",
      "[5]\teval-ndcg:0.93704\teval-map:0.91693\ttrain-ndcg:0.94211\ttrain-map:0.92352\n",
      "[6]\teval-ndcg:0.93747\teval-map:0.91750\ttrain-ndcg:0.94215\ttrain-map:0.92358\n",
      "[7]\teval-ndcg:0.93790\teval-map:0.91802\ttrain-ndcg:0.94287\ttrain-map:0.92451\n",
      "[8]\teval-ndcg:0.93744\teval-map:0.91742\ttrain-ndcg:0.94266\ttrain-map:0.92423\n",
      "[9]\teval-ndcg:0.93664\teval-map:0.91639\ttrain-ndcg:0.94217\ttrain-map:0.92360\n",
      "[10]\teval-ndcg:0.93674\teval-map:0.91653\ttrain-ndcg:0.94244\ttrain-map:0.92394\n",
      "[11]\teval-ndcg:0.93675\teval-map:0.91652\ttrain-ndcg:0.94265\ttrain-map:0.92422\n",
      "[12]\teval-ndcg:0.93684\teval-map:0.91664\ttrain-ndcg:0.94293\ttrain-map:0.92460\n",
      "[13]\teval-ndcg:0.93427\teval-map:0.91326\ttrain-ndcg:0.94154\ttrain-map:0.92280\n",
      "[14]\teval-ndcg:0.93163\teval-map:0.90979\ttrain-ndcg:0.94007\ttrain-map:0.92086\n",
      "[15]\teval-ndcg:0.93220\teval-map:0.91054\ttrain-ndcg:0.94069\ttrain-map:0.92167\n",
      "[16]\teval-ndcg:0.93200\teval-map:0.91027\ttrain-ndcg:0.94075\ttrain-map:0.92175\n",
      "[17]\teval-ndcg:0.93197\teval-map:0.91023\ttrain-ndcg:0.94109\ttrain-map:0.92221\n",
      "[18]\teval-ndcg:0.93149\teval-map:0.90961\ttrain-ndcg:0.94120\ttrain-map:0.92234\n",
      "[19]\teval-ndcg:0.93164\teval-map:0.90981\ttrain-ndcg:0.94118\ttrain-map:0.92230\n",
      "[20]\teval-ndcg:0.93207\teval-map:0.91039\ttrain-ndcg:0.94154\ttrain-map:0.92278\n",
      "[21]\teval-ndcg:0.93179\teval-map:0.91002\ttrain-ndcg:0.94186\ttrain-map:0.92320\n",
      "[22]\teval-ndcg:0.93143\teval-map:0.90953\ttrain-ndcg:0.94179\ttrain-map:0.92310\n",
      "Stopping. Best iteration:\n",
      "[12]\teval-ndcg:0.93684\teval-map:0.91664\ttrain-ndcg:0.94293\ttrain-map:0.92460\n",
      "\n"
     ]
    }
   ],
   "source": [
    "# specify validations set to watch performance\n",
    "watchlist = [(dtest, 'eval'), (dtrain, 'train')]\n",
    "\n",
    "num_trees=2500\n",
    "check_metric_improvement_rounds=10\n",
    "\n",
    "evals_result = {}\n",
    "params['objective'] = 'rank:pairwise'\n",
    "params['eval_metric'] = ['ndcg', 'map']\n",
    "bstc = xgboost.train(params, dtrain, num_boost_round=num_trees,\n",
    "                     early_stopping_rounds=check_metric_improvement_rounds,\n",
    "                     evals=watchlist, evals_result=evals_result)"
   ]
  },
  {
   "cell_type": "code",
   "execution_count": 5,
   "metadata": {},
   "outputs": [
    {
     "name": "stdout",
     "output_type": "stream",
     "text": [
      "0.923203\n",
      "0.941857\n"
     ]
    }
   ],
   "source": [
    "map_metric = evals_result['train']['map'][-1]\n",
    "print(map_metric)\n",
    "ndcg_metric = evals_result['train']['ndcg'][-1]\n",
    "print(ndcg_metric)"
   ]
  },
  {
   "cell_type": "code",
   "execution_count": null,
   "metadata": {},
   "outputs": [],
   "source": []
  }
 ],
 "metadata": {
  "kernelspec": {
   "display_name": "Python 3",
   "language": "python",
   "name": "python3"
  },
  "language_info": {
   "codemirror_mode": {
    "name": "ipython",
    "version": 3
   },
   "file_extension": ".py",
   "mimetype": "text/x-python",
   "name": "python",
   "nbconvert_exporter": "python",
   "pygments_lexer": "ipython3",
   "version": "3.7.7"
  }
 },
 "nbformat": 4,
 "nbformat_minor": 4
}
