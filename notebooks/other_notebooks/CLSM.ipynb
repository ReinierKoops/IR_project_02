{
 "cells": [
  {
   "cell_type": "code",
   "execution_count": 1,
   "metadata": {},
   "outputs": [
    {
     "name": "stderr",
     "output_type": "stream",
     "text": [
      "c:\\users\\yusuf\\appdata\\local\\programs\\python\\python37\\lib\\site-packages\\tqdm\\std.py:648: FutureWarning: The Panel class is removed from pandas. Accessing it from the top-level namespace will also be removed in the next version\n",
      "  from pandas import Panel\n",
      "Using TensorFlow backend.\n",
      "c:\\users\\yusuf\\appdata\\local\\programs\\python\\python37\\lib\\site-packages\\tqdm\\std.py:648: FutureWarning: The Panel class is removed from pandas. Accessing it from the top-level namespace will also be removed in the next version\n",
      "  from pandas import Panel\n"
     ]
    }
   ],
   "source": [
    "#Import all the dependencies\n",
    "from gensim.models.doc2vec import Doc2Vec, TaggedDocument\n",
    "from nltk.tokenize import word_tokenize\n",
    "from tqdm import tqdm_notebook\n",
    "import csv\n",
    "import pandas as pd\n",
    "import matchzoo as mz\n",
    "import math"
   ]
  },
  {
   "cell_type": "code",
   "execution_count": 2,
   "metadata": {},
   "outputs": [],
   "source": [
    "data = []\n",
    "with open('data/data-part-01.txt', newline = '') as aol_data:                                                                                          \n",
    "    data = csv.reader(aol_data, delimiter='\\t')\n",
    "    data = list(data)\n",
    "    \n",
    "df = pd.DataFrame.from_records(data[1:], columns=data[0])\n",
    "df['ItemRank'] = pd.to_numeric(df['ItemRank'], errors='ignore')\n",
    "# queries = df['Query'].tolist()\n",
    "del data"
   ]
  },
  {
   "cell_type": "code",
   "execution_count": 3,
   "metadata": {},
   "outputs": [
    {
     "data": {
      "application/vnd.jupyter.widget-view+json": {
       "model_id": "9eb702202eb642989c56ddbda294398c",
       "version_major": 2,
       "version_minor": 0
      },
      "text/plain": [
       "HBox(children=(IntProgress(value=1, bar_style='info', max=1), HTML(value='')))"
      ]
     },
     "metadata": {},
     "output_type": "display_data"
    },
    {
     "name": "stdout",
     "output_type": "stream",
     "text": [
      "\n"
     ]
    }
   ],
   "source": [
    "df = df.sample(10000, random_state=23)\n",
    "\n",
    "for index, row in tqdm_notebook(df.iterrows()):\n",
    "    if row['ItemRank'] >= 0:\n",
    "        df.loc[index, 'Clicked'] = 1\n",
    "    else:\n",
    "        df.loc[index, 'Clicked'] = 0\n"
   ]
  },
  {
   "cell_type": "code",
   "execution_count": 4,
   "metadata": {},
   "outputs": [],
   "source": [
    "queries = df['Query'].tolist()\n",
    "clicked = df['Clicked'].tolist()"
   ]
  },
  {
   "cell_type": "code",
   "execution_count": 5,
   "metadata": {},
   "outputs": [],
   "source": [
    "prefixes = []\n",
    "suffixes = []\n",
    "pairs = []\n",
    "labels = []\n",
    "\n",
    "for i in range(5000):\n",
    "    words = queries[i].split()\n",
    "    for j in range(1, len(words)):\n",
    "        prefix = \" \".join(words[:j])\n",
    "        suffix = \" \".join(words[j:])\n",
    "        prefixes.append(prefix)\n",
    "        suffixes.append(suffix)\n",
    "        pairs.append([prefix, suffix])\n",
    "        labels.append(clicked[i])\n",
    "\n",
    "del queries\n",
    "del clicked"
   ]
  },
  {
   "cell_type": "code",
   "execution_count": 6,
   "metadata": {},
   "outputs": [],
   "source": [
    "def split(original_list, weight_list):\n",
    "    sublists = []\n",
    "    prev_index = 0\n",
    "    for weight in weight_list:\n",
    "        next_index = prev_index + math.ceil( (len(original_list) * weight) )\n",
    "\n",
    "        sublists.append( original_list[prev_index : next_index] )\n",
    "        prev_index = next_index\n",
    "\n",
    "    return sublists\n",
    "\n",
    "tr_prefix, val_prefix, test_prefix = split(prefixes, [0.7, 0.2, 0.1])\n",
    "tr_suffix, val_suffix, test_suffix = split(suffixes, [0.7, 0.2, 0.1])\n",
    "tr_labels, val_labels, test_labels = split(labels, [0.7, 0.2, 0.1])"
   ]
  },
  {
   "cell_type": "code",
   "execution_count": 7,
   "metadata": {},
   "outputs": [
    {
     "data": {
      "text/html": [
       "<div>\n",
       "<style scoped>\n",
       "    .dataframe tbody tr th:only-of-type {\n",
       "        vertical-align: middle;\n",
       "    }\n",
       "\n",
       "    .dataframe tbody tr th {\n",
       "        vertical-align: top;\n",
       "    }\n",
       "\n",
       "    .dataframe thead th {\n",
       "        text-align: right;\n",
       "    }\n",
       "</style>\n",
       "<table border=\"1\" class=\"dataframe\">\n",
       "  <thead>\n",
       "    <tr style=\"text-align: right;\">\n",
       "      <th></th>\n",
       "      <th>id_left</th>\n",
       "      <th>text_left</th>\n",
       "      <th>id_right</th>\n",
       "      <th>text_right</th>\n",
       "      <th>label</th>\n",
       "    </tr>\n",
       "  </thead>\n",
       "  <tbody>\n",
       "    <tr>\n",
       "      <th>0</th>\n",
       "      <td>L-0</td>\n",
       "      <td>social</td>\n",
       "      <td>R-0</td>\n",
       "      <td>work malpractice insurance</td>\n",
       "      <td>0.0</td>\n",
       "    </tr>\n",
       "    <tr>\n",
       "      <th>1</th>\n",
       "      <td>L-1</td>\n",
       "      <td>social work</td>\n",
       "      <td>R-1</td>\n",
       "      <td>malpractice insurance</td>\n",
       "      <td>0.0</td>\n",
       "    </tr>\n",
       "    <tr>\n",
       "      <th>2</th>\n",
       "      <td>L-2</td>\n",
       "      <td>social work malpractice</td>\n",
       "      <td>R-2</td>\n",
       "      <td>insurance</td>\n",
       "      <td>0.0</td>\n",
       "    </tr>\n",
       "    <tr>\n",
       "      <th>3</th>\n",
       "      <td>L-3</td>\n",
       "      <td>northern</td>\n",
       "      <td>R-3</td>\n",
       "      <td>tool</td>\n",
       "      <td>0.0</td>\n",
       "    </tr>\n",
       "    <tr>\n",
       "      <th>4</th>\n",
       "      <td>L-4</td>\n",
       "      <td>colt</td>\n",
       "      <td>R-4</td>\n",
       "      <td>government 380 handgun grips</td>\n",
       "      <td>1.0</td>\n",
       "    </tr>\n",
       "    <tr>\n",
       "      <th>...</th>\n",
       "      <td>...</td>\n",
       "      <td>...</td>\n",
       "      <td>...</td>\n",
       "      <td>...</td>\n",
       "      <td>...</td>\n",
       "    </tr>\n",
       "    <tr>\n",
       "      <th>731</th>\n",
       "      <td>L-706</td>\n",
       "      <td>vintage ornateserving fork brass nude</td>\n",
       "      <td>R-705</td>\n",
       "      <td>female and cherub bordini italy</td>\n",
       "      <td>0.0</td>\n",
       "    </tr>\n",
       "    <tr>\n",
       "      <th>732</th>\n",
       "      <td>L-707</td>\n",
       "      <td>vintage ornateserving fork brass nude female</td>\n",
       "      <td>R-706</td>\n",
       "      <td>and cherub bordini italy</td>\n",
       "      <td>0.0</td>\n",
       "    </tr>\n",
       "    <tr>\n",
       "      <th>733</th>\n",
       "      <td>L-708</td>\n",
       "      <td>vintage ornateserving fork brass nude female and</td>\n",
       "      <td>R-707</td>\n",
       "      <td>cherub bordini italy</td>\n",
       "      <td>0.0</td>\n",
       "    </tr>\n",
       "    <tr>\n",
       "      <th>734</th>\n",
       "      <td>L-709</td>\n",
       "      <td>vintage ornateserving fork brass nude female a...</td>\n",
       "      <td>R-708</td>\n",
       "      <td>bordini italy</td>\n",
       "      <td>0.0</td>\n",
       "    </tr>\n",
       "    <tr>\n",
       "      <th>735</th>\n",
       "      <td>L-710</td>\n",
       "      <td>vintage ornateserving fork brass nude female a...</td>\n",
       "      <td>R-19</td>\n",
       "      <td>italy</td>\n",
       "      <td>0.0</td>\n",
       "    </tr>\n",
       "  </tbody>\n",
       "</table>\n",
       "<p>736 rows × 5 columns</p>\n",
       "</div>"
      ],
      "text/plain": [
       "    id_left                                          text_left id_right  \\\n",
       "0       L-0                                             social      R-0   \n",
       "1       L-1                                        social work      R-1   \n",
       "2       L-2                            social work malpractice      R-2   \n",
       "3       L-3                                           northern      R-3   \n",
       "4       L-4                                               colt      R-4   \n",
       "..      ...                                                ...      ...   \n",
       "731   L-706              vintage ornateserving fork brass nude    R-705   \n",
       "732   L-707       vintage ornateserving fork brass nude female    R-706   \n",
       "733   L-708   vintage ornateserving fork brass nude female and    R-707   \n",
       "734   L-709  vintage ornateserving fork brass nude female a...    R-708   \n",
       "735   L-710  vintage ornateserving fork brass nude female a...     R-19   \n",
       "\n",
       "                          text_right  label  \n",
       "0         work malpractice insurance    0.0  \n",
       "1              malpractice insurance    0.0  \n",
       "2                          insurance    0.0  \n",
       "3                               tool    0.0  \n",
       "4       government 380 handgun grips    1.0  \n",
       "..                               ...    ...  \n",
       "731  female and cherub bordini italy    0.0  \n",
       "732         and cherub bordini italy    0.0  \n",
       "733             cherub bordini italy    0.0  \n",
       "734                    bordini italy    0.0  \n",
       "735                            italy    0.0  \n",
       "\n",
       "[736 rows x 5 columns]"
      ]
     },
     "execution_count": 7,
     "metadata": {},
     "output_type": "execute_result"
    }
   ],
   "source": [
    "train_data = pd.DataFrame({\n",
    "    'text_left': tr_prefix,\n",
    "    'text_right': tr_suffix,\n",
    "    'label': tr_labels\n",
    "})\n",
    "\n",
    "val_data = pd.DataFrame({\n",
    "    'text_left': val_prefix,\n",
    "    'text_right': val_suffix,\n",
    "    'label': val_labels\n",
    "})\n",
    "\n",
    "test_data = pd.DataFrame({\n",
    "    'text_left': test_prefix,\n",
    "    'text_right': test_suffix,\n",
    "    'label': test_labels\n",
    "})\n",
    "\n",
    "train_pack = mz.pack(train_data)\n",
    "val_pack = mz.pack(val_data)\n",
    "test_pack = mz.pack(test_data)\n",
    "test_pack.frame()"
   ]
  },
  {
   "cell_type": "code",
   "execution_count": 8,
   "metadata": {},
   "outputs": [
    {
     "name": "stderr",
     "output_type": "stream",
     "text": [
      "Processing text_left with chain_transform of Tokenize => Lowercase => PuncRemoval => StopRemoval => NgramLetter: 100%|██████████| 4518/4518 [00:00<00:00, 12859.79it/s]\n",
      "Processing text_right with chain_transform of Tokenize => Lowercase => PuncRemoval => StopRemoval => NgramLetter: 100%|██████████| 4487/4487 [00:00<00:00, 12956.09it/s]\n",
      "Processing text_left with extend: 100%|██████████| 4518/4518 [00:00<00:00, 904355.52it/s]\n",
      "Processing text_right with extend: 100%|██████████| 4487/4487 [00:00<00:00, 896652.63it/s]\n",
      "Building Vocabulary from a datapack.: 100%|██████████| 105362/105362 [00:00<00:00, 3508863.13it/s]\n",
      "Processing text_left with chain_transform of Tokenize => Lowercase => PuncRemoval => StopRemoval: 100%|██████████| 4518/4518 [00:00<00:00, 14105.92it/s]\n",
      "Processing text_right with chain_transform of Tokenize => Lowercase => PuncRemoval => StopRemoval: 100%|██████████| 4487/4487 [00:00<00:00, 14186.47it/s]\n",
      "Processing text_left with transform: 100%|██████████| 4518/4518 [00:00<00:00, 145612.50it/s]\n",
      "Processing text_right with transform: 100%|██████████| 4487/4487 [00:00<00:00, 149433.80it/s]\n",
      "Processing text_left with chain_transform of NgramLetter => WordHashing: 100%|██████████| 4518/4518 [00:04<00:00, 954.92it/s] \n",
      "Processing text_right with chain_transform of NgramLetter => WordHashing: 100%|██████████| 4487/4487 [00:07<00:00, 586.85it/s]\n",
      "Processing text_left with chain_transform of Tokenize => Lowercase => PuncRemoval => StopRemoval: 100%|██████████| 1381/1381 [00:00<00:00, 10779.26it/s]\n",
      "Processing text_right with chain_transform of Tokenize => Lowercase => PuncRemoval => StopRemoval: 100%|██████████| 1403/1403 [00:00<00:00, 13100.14it/s]\n",
      "Processing text_left with transform: 100%|██████████| 1381/1381 [00:00<00:00, 106131.41it/s]\n",
      "Processing text_right with transform: 100%|██████████| 1403/1403 [00:00<00:00, 116804.46it/s]\n",
      "Processing text_left with chain_transform of NgramLetter => WordHashing: 100%|██████████| 1381/1381 [00:02<00:00, 546.87it/s]\n",
      "Processing text_right with chain_transform of NgramLetter => WordHashing: 100%|██████████| 1403/1403 [00:02<00:00, 479.06it/s]\n",
      "Processing text_left with chain_transform of Tokenize => Lowercase => PuncRemoval => StopRemoval: 100%|██████████| 711/711 [00:00<00:00, 12462.44it/s]\n",
      "Processing text_right with chain_transform of Tokenize => Lowercase => PuncRemoval => StopRemoval: 100%|██████████| 709/709 [00:00<00:00, 12879.23it/s]\n",
      "Processing text_left with transform: 100%|██████████| 711/711 [00:00<00:00, 50737.55it/s]\n",
      "Processing text_right with transform: 100%|██████████| 709/709 [00:00<00:00, 101206.87it/s]\n",
      "Processing text_left with chain_transform of NgramLetter => WordHashing: 100%|██████████| 711/711 [01:51<00:00,  6.37it/s] \n",
      "Processing text_right with chain_transform of NgramLetter => WordHashing: 100%|██████████| 709/709 [00:01<00:00, 683.08it/s] \n"
     ]
    }
   ],
   "source": [
    "preprocessor = mz.preprocessors.CDSSMPreprocessor(fixed_length_left=10, fixed_length_right=10)\n",
    "train_pack_processed = preprocessor.fit_transform(train_pack)\n",
    "valid_pack_processed = preprocessor.transform(val_pack)\n",
    "test_pack_processed = preprocessor.transform(test_pack)\n",
    "\n",
    "ranking_task = mz.tasks.Ranking(loss=mz.losses.RankHingeLoss())\n",
    "ranking_task.metrics = [\n",
    "    mz.metrics.NormalizedDiscountedCumulativeGain(k=3),\n",
    "    mz.metrics.NormalizedDiscountedCumulativeGain(k=5),\n",
    "    mz.metrics.MeanAveragePrecision()\n",
    "]"
   ]
  },
  {
   "cell_type": "code",
   "execution_count": 9,
   "metadata": {},
   "outputs": [
    {
     "name": "stdout",
     "output_type": "stream",
     "text": [
      "WARNING:tensorflow:Large dropout rate: 0.8 (>0.5). In TensorFlow 2.x, dropout() uses dropout rate instead of keep_prob. Please ensure that this is intended.\n",
      "WARNING:tensorflow:Large dropout rate: 0.8 (>0.5). In TensorFlow 2.x, dropout() uses dropout rate instead of keep_prob. Please ensure that this is intended.\n",
      "Model: \"model_1\"\n",
      "__________________________________________________________________________________________________\n",
      "Layer (type)                    Output Shape         Param #     Connected to                     \n",
      "==================================================================================================\n",
      "text_left (InputLayer)          (None, 10, 4367)     0                                            \n",
      "__________________________________________________________________________________________________\n",
      "text_right (InputLayer)         (None, 10, 4367)     0                                            \n",
      "__________________________________________________________________________________________________\n",
      "conv1d_1 (Conv1D)               (None, 10, 64)       838528      text_left[0][0]                  \n",
      "__________________________________________________________________________________________________\n",
      "conv1d_2 (Conv1D)               (None, 10, 64)       838528      text_right[0][0]                 \n",
      "__________________________________________________________________________________________________\n",
      "dropout_1 (Dropout)             (None, 10, 64)       0           conv1d_1[0][0]                   \n",
      "__________________________________________________________________________________________________\n",
      "dropout_2 (Dropout)             (None, 10, 64)       0           conv1d_2[0][0]                   \n",
      "__________________________________________________________________________________________________\n",
      "global_max_pooling1d_1 (GlobalM (None, 64)           0           dropout_1[0][0]                  \n",
      "__________________________________________________________________________________________________\n",
      "global_max_pooling1d_2 (GlobalM (None, 64)           0           dropout_2[0][0]                  \n",
      "__________________________________________________________________________________________________\n",
      "dense_1 (Dense)                 (None, 64)           4160        global_max_pooling1d_1[0][0]     \n",
      "__________________________________________________________________________________________________\n",
      "dense_3 (Dense)                 (None, 64)           4160        global_max_pooling1d_2[0][0]     \n",
      "__________________________________________________________________________________________________\n",
      "dense_2 (Dense)                 (None, 64)           4160        dense_1[0][0]                    \n",
      "__________________________________________________________________________________________________\n",
      "dense_4 (Dense)                 (None, 64)           4160        dense_3[0][0]                    \n",
      "__________________________________________________________________________________________________\n",
      "dot_1 (Dot)                     (None, 1)            0           dense_2[0][0]                    \n",
      "                                                                 dense_4[0][0]                    \n",
      "__________________________________________________________________________________________________\n",
      "dense_5 (Dense)                 (None, 1)            2           dot_1[0][0]                      \n",
      "==================================================================================================\n",
      "Total params: 1,693,698\n",
      "Trainable params: 1,693,698\n",
      "Non-trainable params: 0\n",
      "__________________________________________________________________________________________________\n"
     ]
    }
   ],
   "source": [
    "model = mz.models.CDSSM()\n",
    "model.params['input_shapes'] = preprocessor.context['input_shapes']\n",
    "model.params['task'] = ranking_task\n",
    "model.params['filters'] = 64\n",
    "model.params['kernel_size'] = 3\n",
    "model.params['strides'] = 1\n",
    "model.params['padding'] = 'same'\n",
    "model.params['conv_activation_func'] = 'tanh'\n",
    "model.params['w_initializer'] = 'glorot_normal'\n",
    "model.params['b_initializer'] = 'zeros'\n",
    "model.params['mlp_num_layers'] = 1\n",
    "model.params['mlp_num_units'] = 64\n",
    "model.params['mlp_num_fan_out'] = 64\n",
    "model.params['mlp_activation_func'] = 'tanh'\n",
    "model.params['dropout_rate'] = 0.8\n",
    "model.params['optimizer'] = 'adadelta'\n",
    "model.guess_and_fill_missing_params()\n",
    "model.build()\n",
    "model.compile()\n",
    "model.backend.summary()"
   ]
  },
  {
   "cell_type": "code",
   "execution_count": 10,
   "metadata": {},
   "outputs": [
    {
     "name": "stdout",
     "output_type": "stream",
     "text": [
      "num batches: 35\n"
     ]
    }
   ],
   "source": [
    "pred_x, pred_y = test_pack_processed[:].unpack()\n",
    "evaluate = mz.callbacks.EvaluateAllMetrics(model, x=pred_x, y=pred_y, batch_size=len(pred_x))\n",
    "train_generator = mz.DataGenerator(\n",
    "    train_pack_processed,\n",
    "    mode='pair',\n",
    "    num_dup=2,\n",
    "    num_neg=1,\n",
    "    batch_size=20\n",
    ")\n",
    "print('num batches:', len(train_generator))"
   ]
  },
  {
   "cell_type": "code",
   "execution_count": 11,
   "metadata": {},
   "outputs": [
    {
     "name": "stdout",
     "output_type": "stream",
     "text": [
      "Epoch 1/20\n",
      " 1/35 [..............................] - ETA: 30s - loss: 1.0107"
     ]
    },
    {
     "name": "stderr",
     "output_type": "stream",
     "text": [
      "c:\\users\\yusuf\\appdata\\local\\programs\\python\\python37\\lib\\site-packages\\keras\\callbacks\\callbacks.py:95: RuntimeWarning: Method (on_train_batch_end) is slow compared to the batch update (0.878800). Check your callbacks.\n",
      "  % (hook_name, delta_t_median), RuntimeWarning)\n"
     ]
    },
    {
     "name": "stdout",
     "output_type": "stream",
     "text": [
      " 2/35 [>.............................] - ETA: 31s - loss: 1.0223"
     ]
    },
    {
     "name": "stderr",
     "output_type": "stream",
     "text": [
      "c:\\users\\yusuf\\appdata\\local\\programs\\python\\python37\\lib\\site-packages\\keras\\callbacks\\callbacks.py:95: RuntimeWarning: Method (on_train_batch_end) is slow compared to the batch update (0.440401). Check your callbacks.\n",
      "  % (hook_name, delta_t_median), RuntimeWarning)\n"
     ]
    },
    {
     "name": "stdout",
     "output_type": "stream",
     "text": [
      "35/35 [==============================] - ETA: 22s - loss: 1.02 - ETA: 17s - loss: 1.01 - ETA: 14s - loss: 1.00 - ETA: 12s - loss: 1.00 - ETA: 10s - loss: 1.00 - ETA: 9s - loss: 1.0003 - ETA: 8s - loss: 0.996 - ETA: 7s - loss: 0.995 - ETA: 7s - loss: 0.994 - ETA: 6s - loss: 0.989 - ETA: 6s - loss: 0.991 - ETA: 5s - loss: 0.989 - ETA: 5s - loss: 0.986 - ETA: 5s - loss: 0.982 - ETA: 4s - loss: 0.983 - ETA: 4s - loss: 0.981 - ETA: 3s - loss: 0.978 - ETA: 3s - loss: 0.976 - ETA: 3s - loss: 0.967 - ETA: 3s - loss: 0.964 - ETA: 2s - loss: 0.963 - ETA: 2s - loss: 0.956 - ETA: 2s - loss: 0.951 - ETA: 1s - loss: 0.948 - ETA: 1s - loss: 0.944 - ETA: 1s - loss: 0.945 - ETA: 1s - loss: 0.944 - ETA: 0s - loss: 0.941 - ETA: 0s - loss: 0.935 - ETA: 0s - loss: 0.935 - ETA: 0s - loss: 0.929 - ETA: 0s - loss: 0.924 - 6s 180ms/step - loss: 0.9221\n",
      "Validation: normalized_discounted_cumulative_gain@3(0.0): 0.6180904029062325 - normalized_discounted_cumulative_gain@5(0.0): 0.618673133586234 - mean_average_precision(0.0): 0.6179827205143661\n",
      "Epoch 2/20\n",
      "35/35 [==============================] - ETA: 5s - loss: 0.623 - ETA: 5s - loss: 0.590 - ETA: 6s - loss: 0.627 - ETA: 5s - loss: 0.631 - ETA: 5s - loss: 0.649 - ETA: 5s - loss: 0.642 - ETA: 5s - loss: 0.656 - ETA: 5s - loss: 0.659 - ETA: 4s - loss: 0.630 - ETA: 4s - loss: 0.619 - ETA: 4s - loss: 0.626 - ETA: 4s - loss: 0.634 - ETA: 3s - loss: 0.621 - ETA: 3s - loss: 0.616 - ETA: 3s - loss: 0.623 - ETA: 3s - loss: 0.616 - ETA: 3s - loss: 0.612 - ETA: 3s - loss: 0.613 - ETA: 2s - loss: 0.606 - ETA: 2s - loss: 0.594 - ETA: 2s - loss: 0.594 - ETA: 2s - loss: 0.594 - ETA: 2s - loss: 0.597 - ETA: 1s - loss: 0.601 - ETA: 1s - loss: 0.615 - ETA: 1s - loss: 0.615 - ETA: 1s - loss: 0.613 - ETA: 1s - loss: 0.609 - ETA: 0s - loss: 0.608 - ETA: 0s - loss: 0.606 - ETA: 0s - loss: 0.604 - ETA: 0s - loss: 0.601 - ETA: 0s - loss: 0.598 - ETA: 0s - loss: 0.599 - 5s 139ms/step - loss: 0.6028\n",
      "Validation: normalized_discounted_cumulative_gain@3(0.0): 0.6190259193020052 - normalized_discounted_cumulative_gain@5(0.0): 0.6193086489640831 - mean_average_precision(0.0): 0.6187559998214007\n",
      "Epoch 3/20\n",
      "35/35 [==============================] - ETA: 4s - loss: 0.508 - ETA: 5s - loss: 0.498 - ETA: 4s - loss: 0.440 - ETA: 4s - loss: 0.416 - ETA: 4s - loss: 0.418 - ETA: 4s - loss: 0.428 - ETA: 4s - loss: 0.430 - ETA: 3s - loss: 0.444 - ETA: 3s - loss: 0.455 - ETA: 3s - loss: 0.462 - ETA: 3s - loss: 0.466 - ETA: 3s - loss: 0.457 - ETA: 3s - loss: 0.449 - ETA: 3s - loss: 0.466 - ETA: 2s - loss: 0.457 - ETA: 2s - loss: 0.463 - ETA: 2s - loss: 0.460 - ETA: 2s - loss: 0.460 - ETA: 2s - loss: 0.451 - ETA: 2s - loss: 0.440 - ETA: 2s - loss: 0.449 - ETA: 1s - loss: 0.452 - ETA: 1s - loss: 0.447 - ETA: 1s - loss: 0.441 - ETA: 1s - loss: 0.436 - ETA: 1s - loss: 0.430 - ETA: 1s - loss: 0.426 - ETA: 0s - loss: 0.423 - ETA: 0s - loss: 0.417 - ETA: 0s - loss: 0.416 - ETA: 0s - loss: 0.411 - ETA: 0s - loss: 0.407 - ETA: 0s - loss: 0.406 - ETA: 0s - loss: 0.405 - 4s 124ms/step - loss: 0.4007\n",
      "Validation: normalized_discounted_cumulative_gain@3(0.0): 0.6191123363877359 - normalized_discounted_cumulative_gain@5(0.0): 0.6193950660498138 - mean_average_precision(0.0): 0.6189750630678901\n",
      "Epoch 4/20\n",
      "35/35 [==============================] - ETA: 5s - loss: 0.516 - ETA: 5s - loss: 0.419 - ETA: 5s - loss: 0.413 - ETA: 5s - loss: 0.414 - ETA: 5s - loss: 0.431 - ETA: 4s - loss: 0.417 - ETA: 4s - loss: 0.401 - ETA: 4s - loss: 0.376 - ETA: 4s - loss: 0.372 - ETA: 3s - loss: 0.358 - ETA: 3s - loss: 0.352 - ETA: 3s - loss: 0.337 - ETA: 3s - loss: 0.330 - ETA: 3s - loss: 0.326 - ETA: 3s - loss: 0.328 - ETA: 2s - loss: 0.328 - ETA: 2s - loss: 0.316 - ETA: 2s - loss: 0.325 - ETA: 2s - loss: 0.315 - ETA: 2s - loss: 0.317 - ETA: 2s - loss: 0.319 - ETA: 1s - loss: 0.319 - ETA: 1s - loss: 0.319 - ETA: 1s - loss: 0.321 - ETA: 1s - loss: 0.322 - ETA: 1s - loss: 0.319 - ETA: 1s - loss: 0.322 - ETA: 0s - loss: 0.318 - ETA: 0s - loss: 0.313 - ETA: 0s - loss: 0.315 - ETA: 0s - loss: 0.322 - ETA: 0s - loss: 0.318 - ETA: 0s - loss: 0.323 - ETA: 0s - loss: 0.325 - 4s 125ms/step - loss: 0.3303\n",
      "Validation: normalized_discounted_cumulative_gain@3(0.0): 0.6194423495565282 - normalized_discounted_cumulative_gain@5(0.0): 0.6194408213472973 - mean_average_precision(0.0): 0.6190922688812984\n",
      "Epoch 5/20\n",
      "35/35 [==============================] - ETA: 13s - loss: 0.18 - ETA: 9s - loss: 0.3132 - ETA: 8s - loss: 0.333 - ETA: 7s - loss: 0.292 - ETA: 6s - loss: 0.265 - ETA: 5s - loss: 0.252 - ETA: 5s - loss: 0.230 - ETA: 5s - loss: 0.231 - ETA: 5s - loss: 0.249 - ETA: 4s - loss: 0.259 - ETA: 4s - loss: 0.252 - ETA: 4s - loss: 0.261 - ETA: 4s - loss: 0.282 - ETA: 3s - loss: 0.276 - ETA: 3s - loss: 0.268 - ETA: 3s - loss: 0.267 - ETA: 3s - loss: 0.266 - ETA: 3s - loss: 0.258 - ETA: 2s - loss: 0.256 - ETA: 2s - loss: 0.258 - ETA: 2s - loss: 0.256 - ETA: 2s - loss: 0.264 - ETA: 2s - loss: 0.264 - ETA: 1s - loss: 0.258 - ETA: 1s - loss: 0.259 - ETA: 1s - loss: 0.254 - ETA: 1s - loss: 0.260 - ETA: 1s - loss: 0.265 - ETA: 0s - loss: 0.267 - ETA: 0s - loss: 0.265 - ETA: 0s - loss: 0.260 - ETA: 0s - loss: 0.260 - ETA: 0s - loss: 0.258 - ETA: 0s - loss: 0.264 - 5s 144ms/step - loss: 0.2591\n",
      "Validation: normalized_discounted_cumulative_gain@3(0.0): 0.6191123363877359 - normalized_discounted_cumulative_gain@5(0.0): 0.6193950660498138 - mean_average_precision(0.0): 0.6189345991561181\n",
      "Epoch 6/20\n",
      "35/35 [==============================] - ETA: 4s - loss: 0.356 - ETA: 5s - loss: 0.257 - ETA: 5s - loss: 0.296 - ETA: 5s - loss: 0.252 - ETA: 4s - loss: 0.214 - ETA: 4s - loss: 0.226 - ETA: 4s - loss: 0.236 - ETA: 3s - loss: 0.230 - ETA: 3s - loss: 0.232 - ETA: 3s - loss: 0.226 - ETA: 3s - loss: 0.231 - ETA: 3s - loss: 0.225 - ETA: 3s - loss: 0.218 - ETA: 3s - loss: 0.217 - ETA: 2s - loss: 0.222 - ETA: 2s - loss: 0.231 - ETA: 2s - loss: 0.231 - ETA: 2s - loss: 0.239 - ETA: 2s - loss: 0.236 - ETA: 2s - loss: 0.240 - ETA: 2s - loss: 0.234 - ETA: 1s - loss: 0.237 - ETA: 1s - loss: 0.231 - ETA: 1s - loss: 0.233 - ETA: 1s - loss: 0.229 - ETA: 1s - loss: 0.222 - ETA: 1s - loss: 0.227 - ETA: 0s - loss: 0.230 - ETA: 0s - loss: 0.233 - ETA: 0s - loss: 0.231 - ETA: 0s - loss: 0.235 - ETA: 0s - loss: 0.231 - ETA: 0s - loss: 0.229 - ETA: 0s - loss: 0.228 - 4s 123ms/step - loss: 0.2250\n",
      "Validation: normalized_discounted_cumulative_gain@3(0.0): 0.6194423495565282 - normalized_discounted_cumulative_gain@5(0.0): 0.619625357321295 - mean_average_precision(0.0): 0.6190830598531021\n",
      "Epoch 7/20\n",
      "35/35 [==============================] - ETA: 5s - loss: 0.112 - ETA: 5s - loss: 0.077 - ETA: 5s - loss: 0.215 - ETA: 5s - loss: 0.220 - ETA: 5s - loss: 0.193 - ETA: 4s - loss: 0.192 - ETA: 4s - loss: 0.191 - ETA: 4s - loss: 0.201 - ETA: 4s - loss: 0.216 - ETA: 4s - loss: 0.202 - ETA: 3s - loss: 0.190 - ETA: 3s - loss: 0.185 - ETA: 3s - loss: 0.188 - ETA: 3s - loss: 0.207 - ETA: 3s - loss: 0.200 - ETA: 3s - loss: 0.193 - ETA: 2s - loss: 0.193 - ETA: 2s - loss: 0.190 - ETA: 2s - loss: 0.192 - ETA: 2s - loss: 0.191 - ETA: 2s - loss: 0.191 - ETA: 2s - loss: 0.190 - ETA: 1s - loss: 0.189 - ETA: 1s - loss: 0.188 - ETA: 1s - loss: 0.185 - ETA: 1s - loss: 0.192 - ETA: 1s - loss: 0.190 - ETA: 1s - loss: 0.190 - ETA: 0s - loss: 0.193 - ETA: 0s - loss: 0.192 - ETA: 0s - loss: 0.186 - ETA: 0s - loss: 0.186 - ETA: 0s - loss: 0.182 - ETA: 0s - loss: 0.184 - 5s 129ms/step - loss: 0.1827\n",
      "Validation: normalized_discounted_cumulative_gain@3(0.0): 0.6194423495565282 - normalized_discounted_cumulative_gain@5(0.0): 0.6194199166042167 - mean_average_precision(0.0): 0.619016643225504\n",
      "Epoch 8/20\n"
     ]
    },
    {
     "name": "stdout",
     "output_type": "stream",
     "text": [
      "35/35 [==============================] - ETA: 4s - loss: 0.215 - ETA: 5s - loss: 0.271 - ETA: 4s - loss: 0.223 - ETA: 4s - loss: 0.186 - ETA: 4s - loss: 0.177 - ETA: 4s - loss: 0.189 - ETA: 4s - loss: 0.199 - ETA: 4s - loss: 0.196 - ETA: 3s - loss: 0.193 - ETA: 3s - loss: 0.185 - ETA: 3s - loss: 0.173 - ETA: 3s - loss: 0.174 - ETA: 3s - loss: 0.183 - ETA: 3s - loss: 0.171 - ETA: 3s - loss: 0.164 - ETA: 2s - loss: 0.158 - ETA: 2s - loss: 0.151 - ETA: 2s - loss: 0.148 - ETA: 2s - loss: 0.147 - ETA: 2s - loss: 0.150 - ETA: 2s - loss: 0.156 - ETA: 2s - loss: 0.156 - ETA: 1s - loss: 0.162 - ETA: 1s - loss: 0.163 - ETA: 1s - loss: 0.157 - ETA: 1s - loss: 0.153 - ETA: 1s - loss: 0.149 - ETA: 1s - loss: 0.148 - ETA: 0s - loss: 0.146 - ETA: 0s - loss: 0.147 - ETA: 0s - loss: 0.146 - ETA: 0s - loss: 0.145 - ETA: 0s - loss: 0.148 - ETA: 0s - loss: 0.148 - 5s 131ms/step - loss: 0.1475\n",
      "Validation: normalized_discounted_cumulative_gain@3(0.0): 0.6194423495565282 - normalized_discounted_cumulative_gain@5(0.0): 0.619625357321295 - mean_average_precision(0.0): 0.6191039894626392\n",
      "Epoch 9/20\n",
      "35/35 [==============================] - ETA: 8s - loss: 0.085 - ETA: 6s - loss: 0.134 - ETA: 6s - loss: 0.159 - ETA: 5s - loss: 0.190 - ETA: 5s - loss: 0.179 - ETA: 5s - loss: 0.163 - ETA: 5s - loss: 0.158 - ETA: 5s - loss: 0.176 - ETA: 4s - loss: 0.167 - ETA: 4s - loss: 0.157 - ETA: 4s - loss: 0.150 - ETA: 4s - loss: 0.142 - ETA: 4s - loss: 0.137 - ETA: 3s - loss: 0.130 - ETA: 3s - loss: 0.133 - ETA: 3s - loss: 0.130 - ETA: 3s - loss: 0.127 - ETA: 3s - loss: 0.129 - ETA: 2s - loss: 0.125 - ETA: 2s - loss: 0.124 - ETA: 2s - loss: 0.121 - ETA: 2s - loss: 0.129 - ETA: 2s - loss: 0.127 - ETA: 1s - loss: 0.129 - ETA: 1s - loss: 0.128 - ETA: 1s - loss: 0.126 - ETA: 1s - loss: 0.128 - ETA: 1s - loss: 0.125 - ETA: 0s - loss: 0.125 - ETA: 0s - loss: 0.122 - ETA: 0s - loss: 0.123 - ETA: 0s - loss: 0.122 - ETA: 0s - loss: 0.118 - ETA: 0s - loss: 0.120 - 5s 142ms/step - loss: 0.1199\n",
      "Validation: normalized_discounted_cumulative_gain@3(0.0): 0.6194423495565282 - normalized_discounted_cumulative_gain@5(0.0): 0.619625357321295 - mean_average_precision(0.0): 0.6191039894626392\n",
      "Epoch 10/20\n",
      "35/35 [==============================] - ETA: 5s - loss: 0.153 - ETA: 5s - loss: 0.171 - ETA: 5s - loss: 0.130 - ETA: 4s - loss: 0.131 - ETA: 4s - loss: 0.131 - ETA: 4s - loss: 0.140 - ETA: 4s - loss: 0.130 - ETA: 4s - loss: 0.136 - ETA: 4s - loss: 0.151 - ETA: 3s - loss: 0.137 - ETA: 3s - loss: 0.134 - ETA: 3s - loss: 0.134 - ETA: 3s - loss: 0.134 - ETA: 3s - loss: 0.145 - ETA: 3s - loss: 0.149 - ETA: 2s - loss: 0.152 - ETA: 2s - loss: 0.152 - ETA: 2s - loss: 0.144 - ETA: 2s - loss: 0.139 - ETA: 2s - loss: 0.136 - ETA: 2s - loss: 0.129 - ETA: 2s - loss: 0.124 - ETA: 1s - loss: 0.129 - ETA: 1s - loss: 0.129 - ETA: 1s - loss: 0.128 - ETA: 1s - loss: 0.130 - ETA: 1s - loss: 0.125 - ETA: 1s - loss: 0.122 - ETA: 0s - loss: 0.119 - ETA: 0s - loss: 0.117 - ETA: 0s - loss: 0.115 - ETA: 0s - loss: 0.113 - ETA: 0s - loss: 0.113 - ETA: 0s - loss: 0.116 - 5s 131ms/step - loss: 0.1180\n",
      "Validation: normalized_discounted_cumulative_gain@3(0.0): 0.6194423495565282 - normalized_discounted_cumulative_gain@5(0.0): 0.6194408213472973 - mean_average_precision(0.0): 0.6190518049695265\n",
      "Epoch 11/20\n",
      "35/35 [==============================] - ETA: 4s - loss: 0.085 - ETA: 4s - loss: 0.057 - ETA: 4s - loss: 0.039 - ETA: 4s - loss: 0.029 - ETA: 4s - loss: 0.035 - ETA: 4s - loss: 0.031 - ETA: 3s - loss: 0.048 - ETA: 3s - loss: 0.045 - ETA: 3s - loss: 0.049 - ETA: 3s - loss: 0.069 - ETA: 3s - loss: 0.063 - ETA: 3s - loss: 0.058 - ETA: 3s - loss: 0.057 - ETA: 3s - loss: 0.060 - ETA: 2s - loss: 0.078 - ETA: 2s - loss: 0.083 - ETA: 2s - loss: 0.080 - ETA: 2s - loss: 0.085 - ETA: 2s - loss: 0.083 - ETA: 2s - loss: 0.084 - ETA: 2s - loss: 0.085 - ETA: 2s - loss: 0.083 - ETA: 1s - loss: 0.083 - ETA: 1s - loss: 0.083 - ETA: 1s - loss: 0.086 - ETA: 1s - loss: 0.092 - ETA: 1s - loss: 0.091 - ETA: 1s - loss: 0.095 - ETA: 0s - loss: 0.095 - ETA: 0s - loss: 0.098 - ETA: 0s - loss: 0.100 - ETA: 0s - loss: 0.098 - ETA: 0s - loss: 0.099 - ETA: 0s - loss: 0.104 - 5s 135ms/step - loss: 0.1056\n",
      "Validation: normalized_discounted_cumulative_gain@3(0.0): 0.6194423495565282 - normalized_discounted_cumulative_gain@5(0.0): 0.619625357321295 - mean_average_precision(0.0): 0.6191039894626392\n",
      "Epoch 12/20\n",
      "35/35 [==============================] - ETA: 9s - loss: 0.004 - ETA: 7s - loss: 0.109 - ETA: 6s - loss: 0.072 - ETA: 6s - loss: 0.076 - ETA: 7s - loss: 0.066 - ETA: 16s - loss: 0.06 - ETA: 14s - loss: 0.06 - ETA: 12s - loss: 0.06 - ETA: 11s - loss: 0.06 - ETA: 10s - loss: 0.06 - ETA: 9s - loss: 0.0664 - ETA: 8s - loss: 0.064 - ETA: 7s - loss: 0.070 - ETA: 7s - loss: 0.074 - ETA: 6s - loss: 0.077 - ETA: 6s - loss: 0.074 - ETA: 5s - loss: 0.076 - ETA: 5s - loss: 0.078 - ETA: 4s - loss: 0.079 - ETA: 4s - loss: 0.084 - ETA: 3s - loss: 0.083 - ETA: 3s - loss: 0.087 - ETA: 3s - loss: 0.087 - ETA: 2s - loss: 0.088 - ETA: 2s - loss: 0.089 - ETA: 2s - loss: 0.088 - ETA: 1s - loss: 0.088 - ETA: 1s - loss: 0.090 - ETA: 1s - loss: 0.091 - ETA: 1s - loss: 0.093 - ETA: 0s - loss: 0.093 - ETA: 0s - loss: 0.097 - ETA: 0s - loss: 0.095 - ETA: 0s - loss: 0.094 - 7s 207ms/step - loss: 0.0952\n",
      "Validation: normalized_discounted_cumulative_gain@3(0.0): 0.6194423495565282 - normalized_discounted_cumulative_gain@5(0.0): 0.619625357321295 - mean_average_precision(0.0): 0.6191318956086889\n",
      "Epoch 13/20\n",
      "35/35 [==============================] - ETA: 5s - loss: 0.101 - ETA: 5s - loss: 0.059 - ETA: 5s - loss: 0.060 - ETA: 4s - loss: 0.054 - ETA: 4s - loss: 0.056 - ETA: 4s - loss: 0.060 - ETA: 4s - loss: 0.059 - ETA: 4s - loss: 0.069 - ETA: 4s - loss: 0.069 - ETA: 4s - loss: 0.069 - ETA: 3s - loss: 0.065 - ETA: 3s - loss: 0.065 - ETA: 3s - loss: 0.060 - ETA: 3s - loss: 0.059 - ETA: 3s - loss: 0.067 - ETA: 3s - loss: 0.074 - ETA: 3s - loss: 0.071 - ETA: 2s - loss: 0.071 - ETA: 2s - loss: 0.074 - ETA: 2s - loss: 0.079 - ETA: 2s - loss: 0.082 - ETA: 2s - loss: 0.086 - ETA: 2s - loss: 0.083 - ETA: 1s - loss: 0.083 - ETA: 1s - loss: 0.083 - ETA: 1s - loss: 0.083 - ETA: 1s - loss: 0.083 - ETA: 1s - loss: 0.081 - ETA: 0s - loss: 0.081 - ETA: 0s - loss: 0.080 - ETA: 0s - loss: 0.082 - ETA: 0s - loss: 0.082 - ETA: 0s - loss: 0.082 - ETA: 0s - loss: 0.083 - 5s 141ms/step - loss: 0.0822\n",
      "Validation: normalized_discounted_cumulative_gain@3(0.0): 0.6194423495565282 - normalized_discounted_cumulative_gain@5(0.0): 0.619625357321295 - mean_average_precision(0.0): 0.6191318956086889\n",
      "Epoch 14/20\n",
      "35/35 [==============================] - ETA: 4s - loss: 0.076 - ETA: 4s - loss: 0.083 - ETA: 4s - loss: 0.078 - ETA: 4s - loss: 0.095 - ETA: 4s - loss: 0.088 - ETA: 4s - loss: 0.079 - ETA: 4s - loss: 0.080 - ETA: 4s - loss: 0.074 - ETA: 4s - loss: 0.081 - ETA: 3s - loss: 0.080 - ETA: 3s - loss: 0.089 - ETA: 3s - loss: 0.088 - ETA: 3s - loss: 0.081 - ETA: 3s - loss: 0.089 - ETA: 3s - loss: 0.088 - ETA: 3s - loss: 0.083 - ETA: 2s - loss: 0.084 - ETA: 2s - loss: 0.084 - ETA: 2s - loss: 0.084 - ETA: 2s - loss: 0.081 - ETA: 2s - loss: 0.078 - ETA: 2s - loss: 0.077 - ETA: 1s - loss: 0.078 - ETA: 1s - loss: 0.078 - ETA: 1s - loss: 0.075 - ETA: 1s - loss: 0.077 - ETA: 1s - loss: 0.075 - ETA: 1s - loss: 0.072 - ETA: 0s - loss: 0.071 - ETA: 0s - loss: 0.070 - ETA: 0s - loss: 0.069 - ETA: 0s - loss: 0.070 - ETA: 0s - loss: 0.069 - ETA: 0s - loss: 0.072 - 5s 135ms/step - loss: 0.0755\n",
      "Validation: normalized_discounted_cumulative_gain@3(0.0): 0.6194423495565282 - normalized_discounted_cumulative_gain@5(0.0): 0.6194408213472973 - mean_average_precision(0.0): 0.6190727345790636\n",
      "Epoch 15/20\n"
     ]
    },
    {
     "name": "stdout",
     "output_type": "stream",
     "text": [
      "35/35 [==============================] - ETA: 7s - loss: 0.033 - ETA: 6s - loss: 0.042 - ETA: 6s - loss: 0.049 - ETA: 5s - loss: 0.044 - ETA: 5s - loss: 0.036 - ETA: 4s - loss: 0.030 - ETA: 4s - loss: 0.046 - ETA: 4s - loss: 0.062 - ETA: 4s - loss: 0.055 - ETA: 4s - loss: 0.061 - ETA: 4s - loss: 0.067 - ETA: 3s - loss: 0.063 - ETA: 3s - loss: 0.062 - ETA: 3s - loss: 0.072 - ETA: 3s - loss: 0.068 - ETA: 3s - loss: 0.075 - ETA: 2s - loss: 0.073 - ETA: 2s - loss: 0.074 - ETA: 2s - loss: 0.085 - ETA: 2s - loss: 0.087 - ETA: 2s - loss: 0.084 - ETA: 2s - loss: 0.090 - ETA: 1s - loss: 0.088 - ETA: 1s - loss: 0.086 - ETA: 1s - loss: 0.083 - ETA: 1s - loss: 0.087 - ETA: 1s - loss: 0.085 - ETA: 1s - loss: 0.086 - ETA: 0s - loss: 0.087 - ETA: 0s - loss: 0.085 - ETA: 0s - loss: 0.087 - ETA: 0s - loss: 0.086 - ETA: 0s - loss: 0.084 - ETA: 0s - loss: 0.082 - 5s 138ms/step - loss: 0.0808\n",
      "Validation: normalized_discounted_cumulative_gain@3(0.0): 0.6194423495565282 - normalized_discounted_cumulative_gain@5(0.0): 0.6194408213472973 - mean_average_precision(0.0): 0.6190294800526868\n",
      "Epoch 16/20\n",
      "35/35 [==============================] - ETA: 4s - loss: 0.206 - ETA: 5s - loss: 0.169 - ETA: 5s - loss: 0.135 - ETA: 4s - loss: 0.101 - ETA: 4s - loss: 0.089 - ETA: 4s - loss: 0.085 - ETA: 4s - loss: 0.078 - ETA: 4s - loss: 0.079 - ETA: 4s - loss: 0.081 - ETA: 3s - loss: 0.078 - ETA: 3s - loss: 0.079 - ETA: 3s - loss: 0.073 - ETA: 3s - loss: 0.073 - ETA: 3s - loss: 0.075 - ETA: 3s - loss: 0.070 - ETA: 2s - loss: 0.077 - ETA: 2s - loss: 0.074 - ETA: 2s - loss: 0.070 - ETA: 2s - loss: 0.071 - ETA: 2s - loss: 0.072 - ETA: 2s - loss: 0.071 - ETA: 2s - loss: 0.070 - ETA: 1s - loss: 0.071 - ETA: 1s - loss: 0.069 - ETA: 1s - loss: 0.070 - ETA: 1s - loss: 0.068 - ETA: 1s - loss: 0.070 - ETA: 1s - loss: 0.073 - ETA: 0s - loss: 0.073 - ETA: 0s - loss: 0.071 - ETA: 0s - loss: 0.069 - ETA: 0s - loss: 0.070 - ETA: 0s - loss: 0.070 - ETA: 0s - loss: 0.070 - 5s 129ms/step - loss: 0.0704\n",
      "Validation: normalized_discounted_cumulative_gain@3(0.0): 0.6194423495565282 - normalized_discounted_cumulative_gain@5(0.0): 0.619625357321295 - mean_average_precision(0.0): 0.6190830598531021\n",
      "Epoch 17/20\n",
      "35/35 [==============================] - ETA: 4s - loss: 0.060 - ETA: 4s - loss: 0.052 - ETA: 4s - loss: 0.044 - ETA: 4s - loss: 0.034 - ETA: 4s - loss: 0.042 - ETA: 4s - loss: 0.039 - ETA: 4s - loss: 0.058 - ETA: 4s - loss: 0.052 - ETA: 4s - loss: 0.052 - ETA: 4s - loss: 0.047 - ETA: 3s - loss: 0.049 - ETA: 3s - loss: 0.047 - ETA: 3s - loss: 0.058 - ETA: 3s - loss: 0.060 - ETA: 3s - loss: 0.068 - ETA: 3s - loss: 0.071 - ETA: 2s - loss: 0.074 - ETA: 2s - loss: 0.073 - ETA: 2s - loss: 0.075 - ETA: 2s - loss: 0.076 - ETA: 2s - loss: 0.073 - ETA: 2s - loss: 0.071 - ETA: 1s - loss: 0.068 - ETA: 1s - loss: 0.068 - ETA: 1s - loss: 0.065 - ETA: 1s - loss: 0.067 - ETA: 1s - loss: 0.066 - ETA: 1s - loss: 0.064 - ETA: 0s - loss: 0.064 - ETA: 0s - loss: 0.066 - ETA: 0s - loss: 0.066 - ETA: 0s - loss: 0.071 - ETA: 0s - loss: 0.069 - ETA: 0s - loss: 0.069 - 5s 131ms/step - loss: 0.0686\n",
      "Validation: normalized_discounted_cumulative_gain@3(0.0): 0.6194423495565282 - normalized_discounted_cumulative_gain@5(0.0): 0.619625357321295 - mean_average_precision(0.0): 0.6190830598531021\n",
      "Epoch 18/20\n",
      "35/35 [==============================] - ETA: 4s - loss: 0.071 - ETA: 4s - loss: 0.073 - ETA: 4s - loss: 0.074 - ETA: 4s - loss: 0.084 - ETA: 4s - loss: 0.078 - ETA: 4s - loss: 0.085 - ETA: 4s - loss: 0.082 - ETA: 3s - loss: 0.074 - ETA: 3s - loss: 0.074 - ETA: 3s - loss: 0.066 - ETA: 3s - loss: 0.070 - ETA: 3s - loss: 0.065 - ETA: 3s - loss: 0.062 - ETA: 3s - loss: 0.063 - ETA: 2s - loss: 0.063 - ETA: 2s - loss: 0.060 - ETA: 2s - loss: 0.058 - ETA: 2s - loss: 0.062 - ETA: 2s - loss: 0.067 - ETA: 2s - loss: 0.068 - ETA: 2s - loss: 0.064 - ETA: 1s - loss: 0.062 - ETA: 1s - loss: 0.063 - ETA: 1s - loss: 0.060 - ETA: 1s - loss: 0.062 - ETA: 1s - loss: 0.062 - ETA: 1s - loss: 0.064 - ETA: 0s - loss: 0.063 - ETA: 0s - loss: 0.064 - ETA: 0s - loss: 0.063 - ETA: 0s - loss: 0.065 - ETA: 0s - loss: 0.063 - ETA: 0s - loss: 0.063 - ETA: 0s - loss: 0.062 - 4s 123ms/step - loss: 0.0620\n",
      "Validation: normalized_discounted_cumulative_gain@3(0.0): 0.6194423495565282 - normalized_discounted_cumulative_gain@5(0.0): 0.619625357321295 - mean_average_precision(0.0): 0.6191039894626392\n",
      "Epoch 19/20\n",
      "35/35 [==============================] - ETA: 1:43 - loss: 0.040 - ETA: 53s - loss: 0.037 - ETA: 36s - loss: 0.05 - ETA: 27s - loss: 0.04 - ETA: 22s - loss: 0.03 - ETA: 18s - loss: 0.03 - ETA: 16s - loss: 0.03 - ETA: 14s - loss: 0.03 - ETA: 12s - loss: 0.04 - ETA: 11s - loss: 0.04 - ETA: 10s - loss: 0.04 - ETA: 9s - loss: 0.0463 - ETA: 8s - loss: 0.046 - ETA: 7s - loss: 0.047 - ETA: 7s - loss: 0.045 - ETA: 6s - loss: 0.042 - ETA: 6s - loss: 0.051 - ETA: 5s - loss: 0.049 - ETA: 5s - loss: 0.053 - ETA: 4s - loss: 0.053 - ETA: 4s - loss: 0.053 - ETA: 3s - loss: 0.051 - ETA: 3s - loss: 0.054 - ETA: 3s - loss: 0.052 - ETA: 2s - loss: 0.050 - ETA: 2s - loss: 0.054 - ETA: 2s - loss: 0.053 - ETA: 1s - loss: 0.056 - ETA: 1s - loss: 0.055 - ETA: 1s - loss: 0.056 - ETA: 0s - loss: 0.054 - ETA: 0s - loss: 0.054 - ETA: 0s - loss: 0.052 - ETA: 0s - loss: 0.052 - 8s 217ms/step - loss: 0.0528\n",
      "Validation: normalized_discounted_cumulative_gain@3(0.0): 0.6191123363877359 - normalized_discounted_cumulative_gain@5(0.0): 0.6195796020238113 - mean_average_precision(0.0): 0.6189658540396937\n",
      "Epoch 20/20\n",
      "35/35 [==============================] - ETA: 1:07 - loss: 0.015 - ETA: 1:08 - loss: 0.042 - ETA: 1:08 - loss: 0.064 - ETA: 1:06 - loss: 0.048 - ETA: 1:04 - loss: 0.041 - ETA: 58s - loss: 0.037 - ETA: 48s - loss: 0.05 - ETA: 41s - loss: 0.04 - ETA: 36s - loss: 0.09 - ETA: 31s - loss: 0.08 - ETA: 28s - loss: 0.08 - ETA: 24s - loss: 0.07 - ETA: 22s - loss: 0.08 - ETA: 19s - loss: 0.07 - ETA: 17s - loss: 0.07 - ETA: 16s - loss: 0.06 - ETA: 14s - loss: 0.06 - ETA: 13s - loss: 0.06 - ETA: 11s - loss: 0.06 - ETA: 10s - loss: 0.06 - ETA: 9s - loss: 0.0605 - ETA: 8s - loss: 0.058 - ETA: 7s - loss: 0.059 - ETA: 6s - loss: 0.057 - ETA: 5s - loss: 0.060 - ETA: 5s - loss: 0.058 - ETA: 4s - loss: 0.056 - ETA: 3s - loss: 0.056 - ETA: 3s - loss: 0.056 - ETA: 2s - loss: 0.055 - ETA: 1s - loss: 0.055 - ETA: 1s - loss: 0.058 - ETA: 0s - loss: 0.059 - ETA: 0s - loss: 0.059 - 16s 444ms/step - loss: 0.0606\n",
      "Validation: normalized_discounted_cumulative_gain@3(0.0): 0.6194423495565282 - normalized_discounted_cumulative_gain@5(0.0): 0.619625357321295 - mean_average_precision(0.0): 0.6190830598531021\n"
     ]
    }
   ],
   "source": [
    "history = model.fit_generator(train_generator, epochs=20, callbacks=[evaluate], workers=2, use_multiprocessing=False)"
   ]
  },
  {
   "cell_type": "code",
   "execution_count": null,
   "metadata": {},
   "outputs": [],
   "source": []
  },
  {
   "cell_type": "code",
   "execution_count": 14,
   "metadata": {},
   "outputs": [
    {
     "ename": "KeyError",
     "evalue": "'mean_average_precision'",
     "output_type": "error",
     "traceback": [
      "\u001b[1;31m---------------------------------------------------------------------------\u001b[0m",
      "\u001b[1;31mKeyError\u001b[0m                                  Traceback (most recent call last)",
      "\u001b[1;32m<ipython-input-14-93f933a2ca4a>\u001b[0m in \u001b[0;36m<module>\u001b[1;34m\u001b[0m\n\u001b[0;32m      3\u001b[0m \u001b[1;31m# Plot training & validation accuracy values\u001b[0m\u001b[1;33m\u001b[0m\u001b[1;33m\u001b[0m\u001b[1;33m\u001b[0m\u001b[0m\n\u001b[0;32m      4\u001b[0m \u001b[0mplt\u001b[0m\u001b[1;33m.\u001b[0m\u001b[0mplot\u001b[0m\u001b[1;33m(\u001b[0m\u001b[0mhistory\u001b[0m\u001b[1;33m.\u001b[0m\u001b[0mhistory\u001b[0m\u001b[1;33m[\u001b[0m\u001b[1;34m'loss'\u001b[0m\u001b[1;33m]\u001b[0m\u001b[1;33m)\u001b[0m\u001b[1;33m\u001b[0m\u001b[1;33m\u001b[0m\u001b[0m\n\u001b[1;32m----> 5\u001b[1;33m \u001b[0mplt\u001b[0m\u001b[1;33m.\u001b[0m\u001b[0mplot\u001b[0m\u001b[1;33m(\u001b[0m\u001b[0mhistory\u001b[0m\u001b[1;33m.\u001b[0m\u001b[0mhistory\u001b[0m\u001b[1;33m[\u001b[0m\u001b[1;34m'mean_average_precision'\u001b[0m\u001b[1;33m]\u001b[0m\u001b[1;33m)\u001b[0m\u001b[1;33m\u001b[0m\u001b[1;33m\u001b[0m\u001b[0m\n\u001b[0m\u001b[0;32m      6\u001b[0m \u001b[0mplt\u001b[0m\u001b[1;33m.\u001b[0m\u001b[0mtitle\u001b[0m\u001b[1;33m(\u001b[0m\u001b[1;34m'Model accuracy'\u001b[0m\u001b[1;33m)\u001b[0m\u001b[1;33m\u001b[0m\u001b[1;33m\u001b[0m\u001b[0m\n\u001b[0;32m      7\u001b[0m \u001b[0mplt\u001b[0m\u001b[1;33m.\u001b[0m\u001b[0mylabel\u001b[0m\u001b[1;33m(\u001b[0m\u001b[1;34m'Loss'\u001b[0m\u001b[1;33m)\u001b[0m\u001b[1;33m\u001b[0m\u001b[1;33m\u001b[0m\u001b[0m\n",
      "\u001b[1;31mKeyError\u001b[0m: 'mean_average_precision'"
     ]
    },
    {
     "data": {
      "image/png": "[encoded data removed]",
      "text/plain": [
       "<Figure size 432x288 with 1 Axes>"
      ]
     },
     "metadata": {
      "needs_background": "light"
     },
     "output_type": "display_data"
    }
   ],
   "source": [
    "import matplotlib.pyplot as plt\n",
    "\n",
    "# Plot training & validation accuracy values\n",
    "plt.plot(history.history['loss'])\n",
    "plt.plot(history.history['mean_average_precision'])\n",
    "plt.title('Model accuracy')\n",
    "plt.ylabel('Loss')\n",
    "plt.xlabel('Epoch')\n",
    "plt.legend(['Train', 'Test'], loc='upper left')\n",
    "plt.show()\n"
   ]
  },
  {
   "cell_type": "code",
   "execution_count": null,
   "metadata": {},
   "outputs": [],
   "source": []
  },
  {
   "cell_type": "code",
   "execution_count": null,
   "metadata": {},
   "outputs": [],
   "source": []
  },
  {
   "cell_type": "code",
   "execution_count": null,
   "metadata": {},
   "outputs": [],
   "source": []
  }
 ],
 "metadata": {
  "kernelspec": {
   "display_name": "Python 3",
   "language": "python",
   "name": "python3"
  },
  "language_info": {
   "codemirror_mode": {
    "name": "ipython",
    "version": 3
   },
   "file_extension": ".py",
   "mimetype": "text/x-python",
   "name": "python",
   "nbconvert_exporter": "python",
   "pygments_lexer": "ipython3",
   "version": "3.7.5"
  }
 },
 "nbformat": 4,
 "nbformat_minor": 2
}
