{
 "cells": [
  {
   "cell_type": "code",
   "execution_count": null,
   "metadata": {},
   "outputs": [],
   "source": [
    "from lambdamart import LambdaMART \n",
    "import numpy as np\n",
    "import pickle\n",
    "import pandas as pd\n",
    "\n",
    "from tqdm import tqdm_notebook\n",
    "from IPython.display import display, clear_output\n",
    "from sklearn.model_selection import train_test_split"
   ]
  },
  {
   "cell_type": "markdown",
   "metadata": {},
   "source": [
    "# Calculates via LambdaMART the MRR (& NDCG)"
   ]
  },
  {
   "cell_type": "code",
   "execution_count": 2,
   "metadata": {},
   "outputs": [],
   "source": [
    "with open('feature_df.pickle', 'rb') as f:\n",
    "    feature_vec = pickle.load(f)"
   ]
  },
  {
   "cell_type": "code",
   "execution_count": 3,
   "metadata": {},
   "outputs": [],
   "source": [
    "splitpoint = int(0.8*len(feature_vec))\n",
    "\n",
    "train_df = feature_vec.iloc[:splitpoint, :]\n",
    "test_df = feature_vec.iloc[splitpoint:, :]"
   ]
  },
  {
   "cell_type": "code",
   "execution_count": 4,
   "metadata": {},
   "outputs": [
    {
     "name": "stdout",
     "output_type": "stream",
     "text": [
      "Tree0\n"
     ]
    }
   ],
   "source": [
    "NUMBER_OF_TREES = 300\n",
    "\n",
    "model = LambdaMART(\n",
    "    training_data = train_df.to_numpy(), \n",
    "    number_of_trees = NUMBER_OF_TREES, \n",
    "    learning_rate = 0.01)\n",
    "model.fit()\n",
    "\n",
    "model.save('lambdamart_300trees')"
   ]
  },
  {
   "cell_type": "code",
   "execution_count": 5,
   "metadata": {},
   "outputs": [],
   "source": [
    "# model = LambdaMART()\n",
    "# model.load('lambdamart_300trees.lmart')"
   ]
  },
  {
   "cell_type": "code",
   "execution_count": 6,
   "metadata": {},
   "outputs": [],
   "source": [
    "test_data = test_df.to_numpy()\n",
    "average_ndcg, predicted_scores = model.validate(test_data, k=10)\n",
    "predicted_scores = model.predict(test_data[:,1:])"
   ]
  },
  {
   "cell_type": "code",
   "execution_count": null,
   "metadata": {
    "scrolled": true
   },
   "outputs": [],
   "source": [
    "test_by_qid = {}\n",
    "\n",
    "counter = 1\n",
    "for row in test_df.itertuples():\n",
    "    qid = row.qid\n",
    "    clear_output(wait=True)\n",
    "    display('Iteration '+str(counter)+' of '+ str(len(test_df)))\n",
    "    counter += 1\n",
    "    \n",
    "    if qid in test_by_qid:\n",
    "        test_by_qid[qid].append(np.array(row))\n",
    "    else:\n",
    "        test_by_qid[qid] = [np.array(row)]"
   ]
  },
  {
   "cell_type": "code",
   "execution_count": null,
   "metadata": {},
   "outputs": [],
   "source": [
    "def sort_list(list1, list2): \n",
    "  \n",
    "    zipped_pairs = zip(list1, list2) \n",
    "  \n",
    "    z = [x for _, x in sorted(zipped_pairs, key=lambda b:b[0])] \n",
    "      \n",
    "    return z \n",
    "\n",
    "mrrs = []\n",
    "for key in test_by_qid:\n",
    "    candidates = np.array(test_by_qid[key])\n",
    "\n",
    "    predictions = model.predict(candidates[:,2:])\n",
    "    sortedList = sort_list(predictions, candidates)\n",
    "\n",
    "    for i in range(len(sortedList)):\n",
    "        label = sortedList[i][1]\n",
    "        mrr = 0\n",
    "        if label == 1:\n",
    "            mrr = 1 / (i+1)\n",
    "            break\n",
    "    mrrs.append(mrr)    "
   ]
  },
  {
   "cell_type": "code",
   "execution_count": null,
   "metadata": {},
   "outputs": [],
   "source": [
    "MRR = np.mean(mrrs)"
   ]
  }
 ],
 "metadata": {
  "kernelspec": {
   "display_name": "Python 3",
   "language": "python",
   "name": "python3"
  },
  "language_info": {
   "codemirror_mode": {
    "name": "ipython",
    "version": 3
   },
   "file_extension": ".py",
   "mimetype": "text/x-python",
   "name": "python",
   "nbconvert_exporter": "python",
   "pygments_lexer": "ipython3",
   "version": "3.7.7"
  }
 },
 "nbformat": 4,
 "nbformat_minor": 4
}
