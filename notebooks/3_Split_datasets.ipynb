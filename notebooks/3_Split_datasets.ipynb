{
 "cells": [
  {
   "cell_type": "markdown",
   "metadata": {},
   "source": [
    "# Split the dataset"
   ]
  },
  {
   "cell_type": "code",
   "execution_count": 1,
   "metadata": {},
   "outputs": [],
   "source": [
    "import numpy as np\n",
    "import pandas as pd\n",
    "\n",
    "path_to_folder = '/Users/rwkoops/PycharmProjects/IR_project/IR_project_02/'"
   ]
  },
  {
   "cell_type": "markdown",
   "metadata": {},
   "source": [
    "#### Load dataset via Pickle (very fast load)"
   ]
  },
  {
   "cell_type": "code",
   "execution_count": 2,
   "metadata": {},
   "outputs": [],
   "source": [
    "feature_vec = pd.read_pickle(path_to_folder + 'created_sample/feature_vec_opt_1m.pickle')"
   ]
  },
  {
   "cell_type": "markdown",
   "metadata": {},
   "source": [
    "#### Reorder feature_vec to be <qid, label, features>"
   ]
  },
  {
   "cell_type": "code",
   "execution_count": 12,
   "metadata": {},
   "outputs": [],
   "source": [
    "feature_vec = feature_vec[['Synthetic_match', 'Qid', 'Hist_Suffix_freq', 'ngram_1', 'ngram_2', 'ngram_3', 'ngram_4', 'ngram_5', 'ngram_6',\n",
    " 'has_ne', 'ne_norm', 'candid_freq', 'prefixlen_char', 'suffixlen_char', 'totallen_char', 'prefixlen_word', 'suffixlen_word', 'totallen_word',\n",
    " 'bool_space']]"
   ]
  },
  {
   "cell_type": "markdown",
   "metadata": {},
   "source": [
    "#### Train, validate, test dataset"
   ]
  },
  {
   "cell_type": "markdown",
   "metadata": {},
   "source": [
    "- https://machinelearningmastery.com/difference-test-validation-datasets/\n",
    "- https://datascience.stackexchange.com/questions/15135/train-test-validation-set-splitting-in-sklearn\n",
    "\n",
    "Following the advice from these topics, one would have to split the data into a 60/20/20 split for the train, validation and test set.\n",
    "\n",
    "#### We make use of the random seed 5 to have a consistent result "
   ]
  },
  {
   "cell_type": "code",
   "execution_count": 13,
   "metadata": {},
   "outputs": [],
   "source": [
    "np.random.seed(5) \n",
    "train, validate, test = np.split(feature_vec.sample(frac=1), [int(.6*len(feature_vec)), int(.8*len(feature_vec))])"
   ]
  },
  {
   "cell_type": "code",
   "execution_count": 14,
   "metadata": {},
   "outputs": [],
   "source": [
    "train.to_csv(path_to_folder + 'created_sample/train_set_1m.csv', index = False)\n",
    "validate.to_csv(path_to_folder + 'created_sample/validate_set_1m.csv', index = False)\n",
    "test.to_csv(path_to_folder + 'created_sample/test_set_1m.csv', index = False)"
   ]
  },
  {
   "cell_type": "code",
   "execution_count": null,
   "metadata": {},
   "outputs": [],
   "source": []
  }
 ],
 "metadata": {
  "kernelspec": {
   "display_name": "Python 3",
   "language": "python",
   "name": "python3"
  },
  "language_info": {
   "codemirror_mode": {
    "name": "ipython",
    "version": 3
   },
   "file_extension": ".py",
   "mimetype": "text/x-python",
   "name": "python",
   "nbconvert_exporter": "python",
   "pygments_lexer": "ipython3",
   "version": "3.7.7"
  }
 },
 "nbformat": 4,
 "nbformat_minor": 4
}
